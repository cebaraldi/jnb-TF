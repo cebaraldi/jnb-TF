{
 "cells": [
  {
   "cell_type": "markdown",
   "metadata": {
    "id": "Tce3stUlHN0L"
   },
   "source": [
    "##### Copyright 2020 The TensorFlow Authors."
   ]
  },
  {
   "cell_type": "code",
   "execution_count": 1,
   "metadata": {
    "cellView": "form",
    "id": "tuOe1ymfHZPu"
   },
   "outputs": [],
   "source": [
    "#@title Licensed under the Apache License, Version 2.0 (the \"License\");\n",
    "# you may not use this file except in compliance with the License.\n",
    "# You may obtain a copy of the License at\n",
    "#\n",
    "# https://www.apache.org/licenses/LICENSE-2.0\n",
    "#\n",
    "# Unless required by applicable law or agreed to in writing, software\n",
    "# distributed under the License is distributed on an \"AS IS\" BASIS,\n",
    "# WITHOUT WARRANTIES OR CONDITIONS OF ANY KIND, either express or implied.\n",
    "# See the License for the specific language governing permissions and\n",
    "# limitations under the License."
   ]
  },
  {
   "cell_type": "markdown",
   "metadata": {
    "id": "qFdPvlXBOdUN"
   },
   "source": [
    "# Introduction to the Keras Tuner"
   ]
  },
  {
   "cell_type": "markdown",
   "metadata": {
    "id": "MfBg1C5NB3X0"
   },
   "source": [
    "<table class=\"tfo-notebook-buttons\" align=\"left\">\n",
    "  <td>\n",
    "    <a target=\"_blank\" href=\"https://www.tensorflow.org/tutorials/keras/keras_tuner\"><img src=\"https://www.tensorflow.org/images/tf_logo_32px.png\" />View on TensorFlow.org</a>\n",
    "  </td>\n",
    "  <td>\n",
    "    <a target=\"_blank\" href=\"https://colab.research.google.com/github/tensorflow/docs/blob/master/site/en/tutorials/keras/keras_tuner.ipynb\"><img src=\"https://www.tensorflow.org/images/colab_logo_32px.png\" />Run in Google Colab</a>\n",
    "  </td>\n",
    "  <td>\n",
    "    <a target=\"_blank\" href=\"https://github.com/tensorflow/docs/blob/master/site/en/tutorials/keras/keras_tuner.ipynb\"><img src=\"https://www.tensorflow.org/images/GitHub-Mark-32px.png\" />View source on GitHub</a>\n",
    "  </td>\n",
    "  <td>\n",
    "    <a href=\"https://storage.googleapis.com/tensorflow_docs/docs/site/en/tutorials/keras/keras_tuner.ipynb\"><img src=\"https://www.tensorflow.org/images/download_logo_32px.png\" />Download notebook</a>\n",
    "  </td>\n",
    "</table>"
   ]
  },
  {
   "cell_type": "markdown",
   "metadata": {
    "id": "xHxb-dlhMIzW"
   },
   "source": [
    "## Overview\n",
    "\n",
    "The Keras Tuner is a library that helps you pick the optimal set of hyperparameters for your TensorFlow program. The process of selecting the right set of hyperparameters for your machine learning (ML) application is called *hyperparameter tuning* or *hypertuning*.\n",
    "\n",
    "Hyperparameters are the variables that govern the training process and the topology of an ML model. These variables remain constant over the training process and directly impact the performance of your ML program. Hyperparameters are of two types:\n",
    "1. **Model hyperparameters** which influence model selection such as the number and width of hidden layers\n",
    "2. **Algorithm hyperparameters** which influence the speed and quality of the learning algorithm such as the learning rate for Stochastic Gradient Descent (SGD) and the number of nearest neighbors for a k Nearest Neighbors (KNN) classifier\n",
    "\n",
    "In this tutorial, you will use the Keras Tuner to perform hypertuning for an image classification application."
   ]
  },
  {
   "cell_type": "markdown",
   "metadata": {
    "id": "MUXex9ctTuDB"
   },
   "source": [
    "## Setup"
   ]
  },
  {
   "cell_type": "code",
   "execution_count": 2,
   "metadata": {},
   "outputs": [],
   "source": [
    "%reset -sf\n",
    "import os\n",
    "os.environ['TF_CPP_MIN_LOG_LEVEL'] = '2'"
   ]
  },
  {
   "cell_type": "code",
   "execution_count": 3,
   "metadata": {
    "id": "IqR2PQG4ZaZ0"
   },
   "outputs": [],
   "source": [
    "import tensorflow as tf\n",
    "from tensorflow import keras"
   ]
  },
  {
   "cell_type": "markdown",
   "metadata": {
    "id": "g83Lwsy-Aq2_"
   },
   "source": [
    "Install and import the Keras Tuner."
   ]
  },
  {
   "cell_type": "code",
   "execution_count": 4,
   "metadata": {
    "id": "hpMLpbt9jcO6"
   },
   "outputs": [],
   "source": [
    "!pip install -q -U keras-tuner"
   ]
  },
  {
   "cell_type": "code",
   "execution_count": 5,
   "metadata": {
    "id": "_leAIdFKAxAD"
   },
   "outputs": [],
   "source": [
    "import keras_tuner as kt"
   ]
  },
  {
   "cell_type": "markdown",
   "metadata": {
    "id": "ReV_UXOgCZvx"
   },
   "source": [
    "## Download and prepare the dataset\n",
    "\n",
    "In this tutorial, you will use the Keras Tuner to find the best hyperparameters for a machine learning model that classifies images of clothing from the [Fashion MNIST dataset](https://github.com/zalandoresearch/fashion-mnist)."
   ]
  },
  {
   "cell_type": "markdown",
   "metadata": {
    "id": "HljH_ENLEdHa"
   },
   "source": [
    "Load the data."
   ]
  },
  {
   "cell_type": "code",
   "execution_count": 6,
   "metadata": {
    "id": "OHlHs9Wj_PUM"
   },
   "outputs": [],
   "source": [
    "(img_train, label_train), (img_test, label_test) = keras.datasets.fashion_mnist.load_data()"
   ]
  },
  {
   "cell_type": "code",
   "execution_count": 7,
   "metadata": {
    "id": "bLVhXs3xrUD0"
   },
   "outputs": [],
   "source": [
    "# Normalize pixel values between 0 and 1\n",
    "img_train = img_train.astype('float32') / 255.0\n",
    "img_test = img_test.astype('float32') / 255.0"
   ]
  },
  {
   "cell_type": "markdown",
   "metadata": {
    "id": "K5YEL2H2Ax3e"
   },
   "source": [
    "## Define the model\n",
    "\n",
    "When you build a model for hypertuning, you also define the hyperparameter search space in addition to the model architecture. The model you set up for hypertuning is called a *hypermodel*.\n",
    "\n",
    "You can define a hypermodel through two approaches:\n",
    "\n",
    "* By using a model builder function\n",
    "* By subclassing the `HyperModel` class of the Keras Tuner API\n",
    "\n",
    "You can also use two pre-defined [HyperModel](https://keras.io/api/keras_tuner/hypermodels/) classes - [HyperXception](https://keras.io/api/keras_tuner/hypermodels/hyper_xception/) and [HyperResNet](https://keras.io/api/keras_tuner/hypermodels/hyper_resnet/) for computer vision applications.\n",
    "\n",
    "In this tutorial, you use a model builder function to define the image classification model. The model builder function returns a compiled model and uses hyperparameters you define inline to hypertune the model."
   ]
  },
  {
   "cell_type": "code",
   "execution_count": 8,
   "metadata": {
    "id": "ZQKodC-jtsva"
   },
   "outputs": [],
   "source": [
    "def model_builder(hp):\n",
    "  model = keras.Sequential()\n",
    "  model.add(keras.layers.Flatten(input_shape=(28, 28)))\n",
    "\n",
    "  # Tune the number of units in the first Dense layer\n",
    "  # Choose an optimal value between 32-512\n",
    "  hp_units = hp.Int('units', min_value=32, max_value=512, step=32)\n",
    "  model.add(keras.layers.Dense(units=hp_units, activation='relu'))\n",
    "  model.add(keras.layers.Dense(10))\n",
    "\n",
    "  # Tune the learning rate for the optimizer\n",
    "  # Choose an optimal value from 0.01, 0.001, or 0.0001\n",
    "  hp_learning_rate = hp.Choice('learning_rate', values=[1e-2, 1e-3, 1e-4])\n",
    "\n",
    "  model.compile(optimizer=keras.optimizers.Adam(learning_rate=hp_learning_rate),\n",
    "                loss=keras.losses.SparseCategoricalCrossentropy(from_logits=True),\n",
    "                metrics=['accuracy'])\n",
    "\n",
    "  return model"
   ]
  },
  {
   "cell_type": "markdown",
   "metadata": {
    "id": "0J1VYw4q3x0b"
   },
   "source": [
    "## Instantiate the tuner and perform hypertuning\n",
    "\n",
    "Instantiate the tuner to perform the hypertuning. The Keras Tuner has four tuners available - `RandomSearch`, `Hyperband`, `BayesianOptimization`, and `Sklearn`. In this tutorial, you use the [Hyperband](https://arxiv.org/pdf/1603.06560.pdf) tuner.\n",
    "\n",
    "To instantiate the Hyperband tuner, you must specify the hypermodel, the `objective` to optimize and the maximum number of epochs to train (`max_epochs`)."
   ]
  },
  {
   "cell_type": "code",
   "execution_count": 9,
   "metadata": {
    "id": "oichQFly6Y46"
   },
   "outputs": [
    {
     "name": "stdout",
     "output_type": "stream",
     "text": [
      "INFO:tensorflow:Reloading Tuner from my_dir/intro_to_kt/tuner0.json\n"
     ]
    }
   ],
   "source": [
    "tuner = kt.Hyperband(model_builder,\n",
    "                     objective='val_accuracy',\n",
    "                     max_epochs=10,\n",
    "                     factor=3,\n",
    "                     directory='my_dir',\n",
    "                     project_name='intro_to_kt')"
   ]
  },
  {
   "cell_type": "markdown",
   "metadata": {
    "id": "VaIhhdKf9VtI"
   },
   "source": [
    "The Hyperband tuning algorithm uses adaptive resource allocation and early-stopping to quickly converge on a high-performing model. This is done using a sports championship style bracket. The algorithm trains a large number of models for a few epochs and carries forward only the top-performing half of models to the next round. Hyperband determines the number of models to train in a bracket by computing 1 + log<sub>`factor`</sub>(`max_epochs`) and rounding it up to the nearest integer."
   ]
  },
  {
   "cell_type": "markdown",
   "metadata": {
    "id": "cwhBdXx0Ekj8"
   },
   "source": [
    "Create a callback to stop training early after reaching a certain value for the validation loss."
   ]
  },
  {
   "cell_type": "code",
   "execution_count": 10,
   "metadata": {
    "id": "WT9IkS9NEjLc"
   },
   "outputs": [],
   "source": [
    "stop_early = tf.keras.callbacks.EarlyStopping(monitor='val_loss', patience=5)"
   ]
  },
  {
   "cell_type": "markdown",
   "metadata": {
    "id": "UKghEo15Tduy"
   },
   "source": [
    "Run the hyperparameter search. The arguments for the search method are the same as those used for `tf.keras.model.fit` in addition to the callback above."
   ]
  },
  {
   "cell_type": "code",
   "execution_count": 11,
   "metadata": {
    "id": "dSBQcTHF9cKt"
   },
   "outputs": [
    {
     "name": "stdout",
     "output_type": "stream",
     "text": [
      "Trial 30 Complete [00h 03m 13s]\n",
      "val_accuracy: 0.8730833530426025\n",
      "\n",
      "Best val_accuracy So Far: 0.8888333439826965\n",
      "Total elapsed time: 00h 03m 13s\n",
      "INFO:tensorflow:Oracle triggered exit\n",
      "\n",
      "The hyperparameter search is complete. The optimal number of units in the first densely-connected\n",
      "layer is 224 and the optimal learning rate for the optimizer\n",
      "is 0.001.\n",
      "\n"
     ]
    }
   ],
   "source": [
    "tuner.search(img_train, label_train, epochs=50, validation_split=0.2, callbacks=[stop_early])\n",
    "\n",
    "# Get the optimal hyperparameters\n",
    "best_hps=tuner.get_best_hyperparameters(num_trials=1)[0]\n",
    "\n",
    "print(f\"\"\"\n",
    "The hyperparameter search is complete. The optimal number of units in the first densely-connected\n",
    "layer is {best_hps.get('units')} and the optimal learning rate for the optimizer\n",
    "is {best_hps.get('learning_rate')}.\n",
    "\"\"\")"
   ]
  },
  {
   "cell_type": "markdown",
   "metadata": {
    "id": "Lak_ylf88xBv"
   },
   "source": [
    "## Train the model\n",
    "\n",
    "Find the optimal number of epochs to train the model with the hyperparameters obtained from the search."
   ]
  },
  {
   "cell_type": "code",
   "execution_count": 12,
   "metadata": {
    "id": "McO82AXOuxXh"
   },
   "outputs": [
    {
     "name": "stdout",
     "output_type": "stream",
     "text": [
      "Epoch 1/50\n",
      "1500/1500 [==============================] - 17s 11ms/step - loss: 0.5055 - accuracy: 0.8231 - val_loss: 0.3996 - val_accuracy: 0.8590\n",
      "Epoch 2/50\n",
      "1500/1500 [==============================] - 17s 11ms/step - loss: 0.3762 - accuracy: 0.8643 - val_loss: 0.3635 - val_accuracy: 0.8701\n",
      "Epoch 3/50\n",
      "1500/1500 [==============================] - 17s 11ms/step - loss: 0.3341 - accuracy: 0.8767 - val_loss: 0.3502 - val_accuracy: 0.8777\n",
      "Epoch 4/50\n",
      "1500/1500 [==============================] - 16s 11ms/step - loss: 0.3083 - accuracy: 0.8866 - val_loss: 0.3421 - val_accuracy: 0.8724\n",
      "Epoch 5/50\n",
      "1500/1500 [==============================] - 17s 11ms/step - loss: 0.2890 - accuracy: 0.8921 - val_loss: 0.3433 - val_accuracy: 0.8747\n",
      "Epoch 6/50\n",
      "1500/1500 [==============================] - 18s 12ms/step - loss: 0.2742 - accuracy: 0.8980 - val_loss: 0.3211 - val_accuracy: 0.8842\n",
      "Epoch 7/50\n",
      "1500/1500 [==============================] - 18s 12ms/step - loss: 0.2596 - accuracy: 0.9035 - val_loss: 0.3391 - val_accuracy: 0.8801\n",
      "Epoch 8/50\n",
      "1500/1500 [==============================] - 18s 12ms/step - loss: 0.2481 - accuracy: 0.9074 - val_loss: 0.3235 - val_accuracy: 0.8838\n",
      "Epoch 9/50\n",
      "1500/1500 [==============================] - 19s 12ms/step - loss: 0.2387 - accuracy: 0.9091 - val_loss: 0.3233 - val_accuracy: 0.8884\n",
      "Epoch 10/50\n",
      "1500/1500 [==============================] - 18s 12ms/step - loss: 0.2290 - accuracy: 0.9143 - val_loss: 0.3077 - val_accuracy: 0.8900\n",
      "Epoch 11/50\n",
      "1500/1500 [==============================] - 20s 13ms/step - loss: 0.2197 - accuracy: 0.9171 - val_loss: 0.3324 - val_accuracy: 0.8833\n",
      "Epoch 12/50\n",
      "1500/1500 [==============================] - 19s 12ms/step - loss: 0.2125 - accuracy: 0.9198 - val_loss: 0.3131 - val_accuracy: 0.8925\n",
      "Epoch 13/50\n",
      "1500/1500 [==============================] - 18s 12ms/step - loss: 0.2041 - accuracy: 0.9236 - val_loss: 0.3098 - val_accuracy: 0.8953\n",
      "Epoch 14/50\n",
      "1500/1500 [==============================] - 19s 13ms/step - loss: 0.1963 - accuracy: 0.9262 - val_loss: 0.3150 - val_accuracy: 0.8939\n",
      "Epoch 15/50\n",
      "1500/1500 [==============================] - 19s 13ms/step - loss: 0.1886 - accuracy: 0.9280 - val_loss: 0.3143 - val_accuracy: 0.8934\n",
      "Epoch 16/50\n",
      "1500/1500 [==============================] - 20s 13ms/step - loss: 0.1824 - accuracy: 0.9313 - val_loss: 0.3437 - val_accuracy: 0.8900\n",
      "Epoch 17/50\n",
      "1500/1500 [==============================] - 20s 13ms/step - loss: 0.1770 - accuracy: 0.9340 - val_loss: 0.3457 - val_accuracy: 0.8877\n",
      "Epoch 18/50\n",
      "1500/1500 [==============================] - 19s 13ms/step - loss: 0.1708 - accuracy: 0.9356 - val_loss: 0.3399 - val_accuracy: 0.8963\n",
      "Epoch 19/50\n",
      "1500/1500 [==============================] - 20s 13ms/step - loss: 0.1663 - accuracy: 0.9374 - val_loss: 0.3296 - val_accuracy: 0.8966\n",
      "Epoch 20/50\n",
      "1500/1500 [==============================] - 22s 14ms/step - loss: 0.1621 - accuracy: 0.9393 - val_loss: 0.3565 - val_accuracy: 0.8888\n",
      "Epoch 21/50\n",
      "1500/1500 [==============================] - 22s 15ms/step - loss: 0.1567 - accuracy: 0.9411 - val_loss: 0.3554 - val_accuracy: 0.8921\n",
      "Epoch 22/50\n",
      "1500/1500 [==============================] - 25s 16ms/step - loss: 0.1544 - accuracy: 0.9412 - val_loss: 0.3489 - val_accuracy: 0.8925\n",
      "Epoch 23/50\n",
      "1500/1500 [==============================] - 23s 15ms/step - loss: 0.1472 - accuracy: 0.9439 - val_loss: 0.3556 - val_accuracy: 0.8951\n",
      "Epoch 24/50\n",
      "1500/1500 [==============================] - 22s 14ms/step - loss: 0.1450 - accuracy: 0.9457 - val_loss: 0.3550 - val_accuracy: 0.8938\n",
      "Epoch 25/50\n",
      "1500/1500 [==============================] - 23s 15ms/step - loss: 0.1405 - accuracy: 0.9474 - val_loss: 0.3710 - val_accuracy: 0.8942\n",
      "Epoch 26/50\n",
      "1500/1500 [==============================] - 24s 16ms/step - loss: 0.1353 - accuracy: 0.9492 - val_loss: 0.3724 - val_accuracy: 0.8953\n",
      "Epoch 27/50\n",
      "1500/1500 [==============================] - 23s 16ms/step - loss: 0.1311 - accuracy: 0.9510 - val_loss: 0.3722 - val_accuracy: 0.8958\n",
      "Epoch 28/50\n",
      "1500/1500 [==============================] - 24s 16ms/step - loss: 0.1312 - accuracy: 0.9503 - val_loss: 0.3778 - val_accuracy: 0.8928\n",
      "Epoch 29/50\n",
      "1500/1500 [==============================] - 24s 16ms/step - loss: 0.1259 - accuracy: 0.9535 - val_loss: 0.3788 - val_accuracy: 0.8924\n",
      "Epoch 30/50\n",
      "1500/1500 [==============================] - 22s 15ms/step - loss: 0.1230 - accuracy: 0.9534 - val_loss: 0.4031 - val_accuracy: 0.8910\n",
      "Epoch 31/50\n",
      "1500/1500 [==============================] - 23s 15ms/step - loss: 0.1195 - accuracy: 0.9554 - val_loss: 0.3824 - val_accuracy: 0.8950\n",
      "Epoch 32/50\n",
      "1500/1500 [==============================] - 23s 15ms/step - loss: 0.1192 - accuracy: 0.9550 - val_loss: 0.3923 - val_accuracy: 0.8935\n",
      "Epoch 33/50\n",
      "1500/1500 [==============================] - 26s 18ms/step - loss: 0.1135 - accuracy: 0.9570 - val_loss: 0.4040 - val_accuracy: 0.8961\n",
      "Epoch 34/50\n",
      "1500/1500 [==============================] - 24s 16ms/step - loss: 0.1132 - accuracy: 0.9568 - val_loss: 0.4252 - val_accuracy: 0.8903\n",
      "Epoch 35/50\n",
      "1500/1500 [==============================] - 24s 16ms/step - loss: 0.1054 - accuracy: 0.9599 - val_loss: 0.4195 - val_accuracy: 0.8923\n",
      "Epoch 36/50\n",
      "1500/1500 [==============================] - 25s 17ms/step - loss: 0.1056 - accuracy: 0.9607 - val_loss: 0.4321 - val_accuracy: 0.8921\n",
      "Epoch 37/50\n",
      "1500/1500 [==============================] - 26s 17ms/step - loss: 0.1035 - accuracy: 0.9619 - val_loss: 0.4324 - val_accuracy: 0.8932\n",
      "Epoch 38/50\n",
      "1500/1500 [==============================] - 23s 16ms/step - loss: 0.1001 - accuracy: 0.9621 - val_loss: 0.4468 - val_accuracy: 0.8907\n",
      "Epoch 39/50\n",
      "1500/1500 [==============================] - 24s 16ms/step - loss: 0.1012 - accuracy: 0.9625 - val_loss: 0.4256 - val_accuracy: 0.8923\n",
      "Epoch 40/50\n",
      "1500/1500 [==============================] - 24s 16ms/step - loss: 0.0967 - accuracy: 0.9641 - val_loss: 0.4545 - val_accuracy: 0.8918\n",
      "Epoch 41/50\n",
      "1500/1500 [==============================] - 24s 16ms/step - loss: 0.0946 - accuracy: 0.9638 - val_loss: 0.4659 - val_accuracy: 0.8918\n",
      "Epoch 42/50\n",
      "1500/1500 [==============================] - 24s 16ms/step - loss: 0.0905 - accuracy: 0.9662 - val_loss: 0.4669 - val_accuracy: 0.8913\n",
      "Epoch 43/50\n",
      "1500/1500 [==============================] - 25s 17ms/step - loss: 0.0899 - accuracy: 0.9665 - val_loss: 0.4526 - val_accuracy: 0.8944\n",
      "Epoch 44/50\n",
      "1500/1500 [==============================] - 25s 17ms/step - loss: 0.0887 - accuracy: 0.9662 - val_loss: 0.4813 - val_accuracy: 0.8930\n",
      "Epoch 45/50\n",
      "1500/1500 [==============================] - 25s 17ms/step - loss: 0.0846 - accuracy: 0.9682 - val_loss: 0.4800 - val_accuracy: 0.8931\n",
      "Epoch 46/50\n",
      "1500/1500 [==============================] - 24s 16ms/step - loss: 0.0866 - accuracy: 0.9675 - val_loss: 0.5052 - val_accuracy: 0.8883\n",
      "Epoch 47/50\n",
      "1500/1500 [==============================] - 28s 19ms/step - loss: 0.0876 - accuracy: 0.9673 - val_loss: 0.4598 - val_accuracy: 0.8952\n",
      "Epoch 48/50\n",
      "1500/1500 [==============================] - 25s 16ms/step - loss: 0.0789 - accuracy: 0.9708 - val_loss: 0.5142 - val_accuracy: 0.8917\n",
      "Epoch 49/50\n",
      "1500/1500 [==============================] - 27s 18ms/step - loss: 0.0809 - accuracy: 0.9697 - val_loss: 0.4703 - val_accuracy: 0.8913\n",
      "Epoch 50/50\n",
      "1500/1500 [==============================] - 26s 17ms/step - loss: 0.0781 - accuracy: 0.9700 - val_loss: 0.5373 - val_accuracy: 0.8855\n",
      "Best epoch: 19\n"
     ]
    }
   ],
   "source": [
    "# Build the model with the optimal hyperparameters and train it on the data for 50 epochs\n",
    "model = tuner.hypermodel.build(best_hps)\n",
    "history = model.fit(img_train, label_train, epochs=50, validation_split=0.2)\n",
    "\n",
    "val_acc_per_epoch = history.history['val_accuracy']\n",
    "best_epoch = val_acc_per_epoch.index(max(val_acc_per_epoch)) + 1\n",
    "print('Best epoch: %d' % (best_epoch,))"
   ]
  },
  {
   "cell_type": "markdown",
   "metadata": {
    "id": "uOTSirSTI3Gp"
   },
   "source": [
    "Re-instantiate the hypermodel and train it with the optimal number of epochs from above."
   ]
  },
  {
   "cell_type": "code",
   "execution_count": 13,
   "metadata": {
    "id": "NoiPUEHmMhCe"
   },
   "outputs": [
    {
     "name": "stdout",
     "output_type": "stream",
     "text": [
      "Epoch 1/19\n",
      "1500/1500 [==============================] - 21s 13ms/step - loss: 0.5017 - accuracy: 0.8222 - val_loss: 0.4130 - val_accuracy: 0.8493\n",
      "Epoch 2/19\n",
      "1500/1500 [==============================] - 21s 14ms/step - loss: 0.3758 - accuracy: 0.8651 - val_loss: 0.3620 - val_accuracy: 0.8706\n",
      "Epoch 3/19\n",
      "1500/1500 [==============================] - 21s 14ms/step - loss: 0.3350 - accuracy: 0.8789 - val_loss: 0.3654 - val_accuracy: 0.8667\n",
      "Epoch 4/19\n",
      "1500/1500 [==============================] - 20s 13ms/step - loss: 0.3108 - accuracy: 0.8857 - val_loss: 0.3359 - val_accuracy: 0.8788\n",
      "Epoch 5/19\n",
      "1500/1500 [==============================] - 20s 14ms/step - loss: 0.2914 - accuracy: 0.8916 - val_loss: 0.3228 - val_accuracy: 0.8828\n",
      "Epoch 6/19\n",
      "1500/1500 [==============================] - 21s 14ms/step - loss: 0.2769 - accuracy: 0.8967 - val_loss: 0.3372 - val_accuracy: 0.8770\n",
      "Epoch 7/19\n",
      "1500/1500 [==============================] - 20s 13ms/step - loss: 0.2643 - accuracy: 0.9019 - val_loss: 0.3243 - val_accuracy: 0.8842\n",
      "Epoch 8/19\n",
      "1500/1500 [==============================] - 21s 14ms/step - loss: 0.2516 - accuracy: 0.9054 - val_loss: 0.3254 - val_accuracy: 0.8821\n",
      "Epoch 9/19\n",
      "1500/1500 [==============================] - 20s 14ms/step - loss: 0.2427 - accuracy: 0.9097 - val_loss: 0.3229 - val_accuracy: 0.8836\n",
      "Epoch 10/19\n",
      "1500/1500 [==============================] - 21s 14ms/step - loss: 0.2285 - accuracy: 0.9145 - val_loss: 0.3139 - val_accuracy: 0.8882\n",
      "Epoch 11/19\n",
      "1500/1500 [==============================] - 22s 15ms/step - loss: 0.2233 - accuracy: 0.9168 - val_loss: 0.3309 - val_accuracy: 0.8864\n",
      "Epoch 12/19\n",
      "1500/1500 [==============================] - 21s 14ms/step - loss: 0.2150 - accuracy: 0.9204 - val_loss: 0.3183 - val_accuracy: 0.8896\n",
      "Epoch 13/19\n",
      "1500/1500 [==============================] - 23s 15ms/step - loss: 0.2053 - accuracy: 0.9224 - val_loss: 0.3241 - val_accuracy: 0.8888\n",
      "Epoch 14/19\n",
      "1500/1500 [==============================] - 21s 14ms/step - loss: 0.2009 - accuracy: 0.9253 - val_loss: 0.3128 - val_accuracy: 0.8963\n",
      "Epoch 15/19\n",
      "1500/1500 [==============================] - 21s 14ms/step - loss: 0.1920 - accuracy: 0.9284 - val_loss: 0.3589 - val_accuracy: 0.8819\n",
      "Epoch 16/19\n",
      "1500/1500 [==============================] - 20s 14ms/step - loss: 0.1868 - accuracy: 0.9294 - val_loss: 0.3350 - val_accuracy: 0.8903\n",
      "Epoch 17/19\n",
      "1500/1500 [==============================] - 21s 14ms/step - loss: 0.1798 - accuracy: 0.9323 - val_loss: 0.3337 - val_accuracy: 0.8893\n",
      "Epoch 18/19\n",
      "1500/1500 [==============================] - 21s 14ms/step - loss: 0.1748 - accuracy: 0.9342 - val_loss: 0.3415 - val_accuracy: 0.8903\n",
      "Epoch 19/19\n",
      "1500/1500 [==============================] - 22s 15ms/step - loss: 0.1684 - accuracy: 0.9363 - val_loss: 0.3529 - val_accuracy: 0.8883\n"
     ]
    },
    {
     "data": {
      "text/plain": [
       "<keras.callbacks.History at 0x7fea84aa66b0>"
      ]
     },
     "execution_count": 13,
     "metadata": {},
     "output_type": "execute_result"
    }
   ],
   "source": [
    "hypermodel = tuner.hypermodel.build(best_hps)\n",
    "\n",
    "# Retrain the model\n",
    "hypermodel.fit(img_train, label_train, epochs=best_epoch, validation_split=0.2)"
   ]
  },
  {
   "cell_type": "markdown",
   "metadata": {
    "id": "MqU5ZVAaag2v"
   },
   "source": [
    "To finish this tutorial, evaluate the hypermodel on the test data."
   ]
  },
  {
   "cell_type": "code",
   "execution_count": 14,
   "metadata": {
    "id": "9E0BTp9Ealjb"
   },
   "outputs": [
    {
     "name": "stdout",
     "output_type": "stream",
     "text": [
      "313/313 [==============================] - 2s 6ms/step - loss: 0.3818 - accuracy: 0.8847\n",
      "[test loss, test accuracy]: [0.38184839487075806, 0.8847000002861023]\n"
     ]
    }
   ],
   "source": [
    "eval_result = hypermodel.evaluate(img_test, label_test)\n",
    "print(\"[test loss, test accuracy]:\", eval_result)"
   ]
  },
  {
   "cell_type": "markdown",
   "metadata": {
    "id": "EQRpPHZsz-eC"
   },
   "source": [
    "The `my_dir/intro_to_kt` directory contains detailed logs and checkpoints for every trial (model configuration) run during the hyperparameter search. If you re-run the hyperparameter search, the Keras Tuner uses the existing state from these logs to resume the search. To disable this behavior, pass an additional `overwrite=True` argument while instantiating the tuner."
   ]
  },
  {
   "cell_type": "markdown",
   "metadata": {
    "id": "sKwLOzKpFGAj"
   },
   "source": [
    "## Summary\n",
    "\n",
    "In this tutorial, you learned how to use the Keras Tuner to tune hyperparameters for a model. To learn more about the Keras Tuner, check out these additional resources:\n",
    "\n",
    "* [Keras Tuner on the TensorFlow blog](https://blog.tensorflow.org/2020/01/hyperparameter-tuning-with-keras-tuner.html)\n",
    "* [Keras Tuner website](https://keras-team.github.io/keras-tuner/)\n",
    "\n",
    "Also check out the [HParams Dashboard](https://www.tensorflow.org/tensorboard/hyperparameter_tuning_with_hparams) in TensorBoard to interactively tune your model hyperparameters."
   ]
  }
 ],
 "metadata": {
  "accelerator": "GPU",
  "colab": {
   "collapsed_sections": [
    "Tce3stUlHN0L"
   ],
   "name": "keras_tuner.ipynb",
   "toc_visible": true
  },
  "kernelspec": {
   "display_name": "Python 3 (ipykernel)",
   "language": "python",
   "name": "python3"
  },
  "language_info": {
   "codemirror_mode": {
    "name": "ipython",
    "version": 3
   },
   "file_extension": ".py",
   "mimetype": "text/x-python",
   "name": "python",
   "nbconvert_exporter": "python",
   "pygments_lexer": "ipython3",
   "version": "3.10.9"
  }
 },
 "nbformat": 4,
 "nbformat_minor": 4
}
