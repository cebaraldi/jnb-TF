{
 "cells": [
  {
   "cell_type": "markdown",
   "metadata": {
    "id": "Tce3stUlHN0L"
   },
   "source": [
    "##### Copyright 2020 The TensorFlow Authors."
   ]
  },
  {
   "cell_type": "code",
   "execution_count": 1,
   "metadata": {
    "cellView": "form",
    "execution": {
     "iopub.execute_input": "2022-12-14T06:54:15.966278Z",
     "iopub.status.busy": "2022-12-14T06:54:15.965788Z",
     "iopub.status.idle": "2022-12-14T06:54:15.969775Z",
     "shell.execute_reply": "2022-12-14T06:54:15.969104Z"
    },
    "id": "tuOe1ymfHZPu"
   },
   "outputs": [],
   "source": [
    "#@title Licensed under the Apache License, Version 2.0 (the \"License\");\n",
    "# you may not use this file except in compliance with the License.\n",
    "# You may obtain a copy of the License at\n",
    "#\n",
    "# https://www.apache.org/licenses/LICENSE-2.0\n",
    "#\n",
    "# Unless required by applicable law or agreed to in writing, software\n",
    "# distributed under the License is distributed on an \"AS IS\" BASIS,\n",
    "# WITHOUT WARRANTIES OR CONDITIONS OF ANY KIND, either express or implied.\n",
    "# See the License for the specific language governing permissions and\n",
    "# limitations under the License."
   ]
  },
  {
   "cell_type": "markdown",
   "metadata": {
    "id": "qFdPvlXBOdUN"
   },
   "source": [
    "# Introduction to the Keras Tuner"
   ]
  },
  {
   "cell_type": "markdown",
   "metadata": {
    "id": "MfBg1C5NB3X0"
   },
   "source": [
    "<table class=\"tfo-notebook-buttons\" align=\"left\">\n",
    "  <td>\n",
    "    <a target=\"_blank\" href=\"https://www.tensorflow.org/tutorials/keras/keras_tuner\"><img src=\"https://www.tensorflow.org/images/tf_logo_32px.png\" />View on TensorFlow.org</a>\n",
    "  </td>\n",
    "  <td>\n",
    "    <a target=\"_blank\" href=\"https://colab.research.google.com/github/tensorflow/docs/blob/master/site/en/tutorials/keras/keras_tuner.ipynb\"><img src=\"https://www.tensorflow.org/images/colab_logo_32px.png\" />Run in Google Colab</a>\n",
    "  </td>\n",
    "  <td>\n",
    "    <a target=\"_blank\" href=\"https://github.com/tensorflow/docs/blob/master/site/en/tutorials/keras/keras_tuner.ipynb\"><img src=\"https://www.tensorflow.org/images/GitHub-Mark-32px.png\" />View source on GitHub</a>\n",
    "  </td>\n",
    "  <td>\n",
    "    <a href=\"https://storage.googleapis.com/tensorflow_docs/docs/site/en/tutorials/keras/keras_tuner.ipynb\"><img src=\"https://www.tensorflow.org/images/download_logo_32px.png\" />Download notebook</a>\n",
    "  </td>\n",
    "</table>"
   ]
  },
  {
   "cell_type": "markdown",
   "metadata": {
    "id": "xHxb-dlhMIzW"
   },
   "source": [
    "## Overview\n",
    "\n",
    "The Keras Tuner is a library that helps you pick the optimal set of hyperparameters for your TensorFlow program. The process of selecting the right set of hyperparameters for your machine learning (ML) application is called *hyperparameter tuning* or *hypertuning*.\n",
    "\n",
    "Hyperparameters are the variables that govern the training process and the topology of an ML model. These variables remain constant over the training process and directly impact the performance of your ML program. Hyperparameters are of two types:\n",
    "1. **Model hyperparameters** which influence model selection such as the number and width of hidden layers\n",
    "2. **Algorithm hyperparameters** which influence the speed and quality of the learning algorithm such as the learning rate for Stochastic Gradient Descent (SGD) and the number of nearest neighbors for a k Nearest Neighbors (KNN) classifier\n",
    "\n",
    "In this tutorial, you will use the Keras Tuner to perform hypertuning for an image classification application."
   ]
  },
  {
   "cell_type": "markdown",
   "metadata": {
    "id": "MUXex9ctTuDB"
   },
   "source": [
    "## Setup"
   ]
  },
  {
   "cell_type": "code",
   "execution_count": null,
   "metadata": {},
   "outputs": [],
   "source": [
    "%reset -sf\n",
    "import os\n",
    "os.environ['TF_CPP_MIN_LOG_LEVEL'] = '2'"
   ]
  },
  {
   "cell_type": "code",
   "execution_count": 2,
   "metadata": {
    "execution": {
     "iopub.execute_input": "2022-12-14T06:54:15.973580Z",
     "iopub.status.busy": "2022-12-14T06:54:15.973027Z",
     "iopub.status.idle": "2022-12-14T06:54:17.934809Z",
     "shell.execute_reply": "2022-12-14T06:54:17.933877Z"
    },
    "id": "IqR2PQG4ZaZ0"
   },
   "outputs": [
    {
     "name": "stderr",
     "output_type": "stream",
     "text": [
      "2022-12-14 06:54:16.934342: W tensorflow/compiler/xla/stream_executor/platform/default/dso_loader.cc:64] Could not load dynamic library 'libnvinfer.so.7'; dlerror: libnvinfer.so.7: cannot open shared object file: No such file or directory\n",
      "2022-12-14 06:54:16.934438: W tensorflow/compiler/xla/stream_executor/platform/default/dso_loader.cc:64] Could not load dynamic library 'libnvinfer_plugin.so.7'; dlerror: libnvinfer_plugin.so.7: cannot open shared object file: No such file or directory\n",
      "2022-12-14 06:54:16.934447: W tensorflow/compiler/tf2tensorrt/utils/py_utils.cc:38] TF-TRT Warning: Cannot dlopen some TensorRT libraries. If you would like to use Nvidia GPU with TensorRT, please make sure the missing libraries mentioned above are installed properly.\n"
     ]
    }
   ],
   "source": [
    "import tensorflow as tf\n",
    "from tensorflow import keras"
   ]
  },
  {
   "cell_type": "markdown",
   "metadata": {
    "id": "g83Lwsy-Aq2_"
   },
   "source": [
    "Install and import the Keras Tuner."
   ]
  },
  {
   "cell_type": "code",
   "execution_count": 3,
   "metadata": {
    "execution": {
     "iopub.execute_input": "2022-12-14T06:54:17.939480Z",
     "iopub.status.busy": "2022-12-14T06:54:17.938637Z",
     "iopub.status.idle": "2022-12-14T06:54:19.967960Z",
     "shell.execute_reply": "2022-12-14T06:54:19.966743Z"
    },
    "id": "hpMLpbt9jcO6"
   },
   "outputs": [],
   "source": [
    "!pip install -q -U keras-tuner"
   ]
  },
  {
   "cell_type": "code",
   "execution_count": 4,
   "metadata": {
    "execution": {
     "iopub.execute_input": "2022-12-14T06:54:19.972752Z",
     "iopub.status.busy": "2022-12-14T06:54:19.971963Z",
     "iopub.status.idle": "2022-12-14T06:54:20.371711Z",
     "shell.execute_reply": "2022-12-14T06:54:20.370754Z"
    },
    "id": "_leAIdFKAxAD"
   },
   "outputs": [],
   "source": [
    "import keras_tuner as kt"
   ]
  },
  {
   "cell_type": "markdown",
   "metadata": {
    "id": "ReV_UXOgCZvx"
   },
   "source": [
    "## Download and prepare the dataset\n",
    "\n",
    "In this tutorial, you will use the Keras Tuner to find the best hyperparameters for a machine learning model that classifies images of clothing from the [Fashion MNIST dataset](https://github.com/zalandoresearch/fashion-mnist)."
   ]
  },
  {
   "cell_type": "markdown",
   "metadata": {
    "id": "HljH_ENLEdHa"
   },
   "source": [
    "Load the data."
   ]
  },
  {
   "cell_type": "code",
   "execution_count": 5,
   "metadata": {
    "execution": {
     "iopub.execute_input": "2022-12-14T06:54:20.375831Z",
     "iopub.status.busy": "2022-12-14T06:54:20.375542Z",
     "iopub.status.idle": "2022-12-14T06:54:20.763563Z",
     "shell.execute_reply": "2022-12-14T06:54:20.762603Z"
    },
    "id": "OHlHs9Wj_PUM"
   },
   "outputs": [],
   "source": [
    "(img_train, label_train), (img_test, label_test) = keras.datasets.fashion_mnist.load_data()"
   ]
  },
  {
   "cell_type": "code",
   "execution_count": 6,
   "metadata": {
    "execution": {
     "iopub.execute_input": "2022-12-14T06:54:20.768093Z",
     "iopub.status.busy": "2022-12-14T06:54:20.767523Z",
     "iopub.status.idle": "2022-12-14T06:54:20.862518Z",
     "shell.execute_reply": "2022-12-14T06:54:20.861486Z"
    },
    "id": "bLVhXs3xrUD0"
   },
   "outputs": [],
   "source": [
    "# Normalize pixel values between 0 and 1\n",
    "img_train = img_train.astype('float32') / 255.0\n",
    "img_test = img_test.astype('float32') / 255.0"
   ]
  },
  {
   "cell_type": "markdown",
   "metadata": {
    "id": "K5YEL2H2Ax3e"
   },
   "source": [
    "## Define the model\n",
    "\n",
    "When you build a model for hypertuning, you also define the hyperparameter search space in addition to the model architecture. The model you set up for hypertuning is called a *hypermodel*.\n",
    "\n",
    "You can define a hypermodel through two approaches:\n",
    "\n",
    "* By using a model builder function\n",
    "* By subclassing the `HyperModel` class of the Keras Tuner API\n",
    "\n",
    "You can also use two pre-defined [HyperModel](https://keras.io/api/keras_tuner/hypermodels/) classes - [HyperXception](https://keras.io/api/keras_tuner/hypermodels/hyper_xception/) and [HyperResNet](https://keras.io/api/keras_tuner/hypermodels/hyper_resnet/) for computer vision applications.\n",
    "\n",
    "In this tutorial, you use a model builder function to define the image classification model. The model builder function returns a compiled model and uses hyperparameters you define inline to hypertune the model."
   ]
  },
  {
   "cell_type": "code",
   "execution_count": 7,
   "metadata": {
    "execution": {
     "iopub.execute_input": "2022-12-14T06:54:20.867222Z",
     "iopub.status.busy": "2022-12-14T06:54:20.866480Z",
     "iopub.status.idle": "2022-12-14T06:54:20.872539Z",
     "shell.execute_reply": "2022-12-14T06:54:20.871619Z"
    },
    "id": "ZQKodC-jtsva"
   },
   "outputs": [],
   "source": [
    "def model_builder(hp):\n",
    "  model = keras.Sequential()\n",
    "  model.add(keras.layers.Flatten(input_shape=(28, 28)))\n",
    "\n",
    "  # Tune the number of units in the first Dense layer\n",
    "  # Choose an optimal value between 32-512\n",
    "  hp_units = hp.Int('units', min_value=32, max_value=512, step=32)\n",
    "  model.add(keras.layers.Dense(units=hp_units, activation='relu'))\n",
    "  model.add(keras.layers.Dense(10))\n",
    "\n",
    "  # Tune the learning rate for the optimizer\n",
    "  # Choose an optimal value from 0.01, 0.001, or 0.0001\n",
    "  hp_learning_rate = hp.Choice('learning_rate', values=[1e-2, 1e-3, 1e-4])\n",
    "\n",
    "  model.compile(optimizer=keras.optimizers.Adam(learning_rate=hp_learning_rate),\n",
    "                loss=keras.losses.SparseCategoricalCrossentropy(from_logits=True),\n",
    "                metrics=['accuracy'])\n",
    "\n",
    "  return model"
   ]
  },
  {
   "cell_type": "markdown",
   "metadata": {
    "id": "0J1VYw4q3x0b"
   },
   "source": [
    "## Instantiate the tuner and perform hypertuning\n",
    "\n",
    "Instantiate the tuner to perform the hypertuning. The Keras Tuner has four tuners available - `RandomSearch`, `Hyperband`, `BayesianOptimization`, and `Sklearn`. In this tutorial, you use the [Hyperband](https://arxiv.org/pdf/1603.06560.pdf) tuner.\n",
    "\n",
    "To instantiate the Hyperband tuner, you must specify the hypermodel, the `objective` to optimize and the maximum number of epochs to train (`max_epochs`)."
   ]
  },
  {
   "cell_type": "code",
   "execution_count": 8,
   "metadata": {
    "execution": {
     "iopub.execute_input": "2022-12-14T06:54:20.876254Z",
     "iopub.status.busy": "2022-12-14T06:54:20.875733Z",
     "iopub.status.idle": "2022-12-14T06:54:24.322560Z",
     "shell.execute_reply": "2022-12-14T06:54:24.321818Z"
    },
    "id": "oichQFly6Y46"
   },
   "outputs": [],
   "source": [
    "tuner = kt.Hyperband(model_builder,\n",
    "                     objective='val_accuracy',\n",
    "                     max_epochs=10,\n",
    "                     factor=3,\n",
    "                     directory='my_dir',\n",
    "                     project_name='intro_to_kt')"
   ]
  },
  {
   "cell_type": "markdown",
   "metadata": {
    "id": "VaIhhdKf9VtI"
   },
   "source": [
    "The Hyperband tuning algorithm uses adaptive resource allocation and early-stopping to quickly converge on a high-performing model. This is done using a sports championship style bracket. The algorithm trains a large number of models for a few epochs and carries forward only the top-performing half of models to the next round. Hyperband determines the number of models to train in a bracket by computing 1 + log<sub>`factor`</sub>(`max_epochs`) and rounding it up to the nearest integer."
   ]
  },
  {
   "cell_type": "markdown",
   "metadata": {
    "id": "cwhBdXx0Ekj8"
   },
   "source": [
    "Create a callback to stop training early after reaching a certain value for the validation loss."
   ]
  },
  {
   "cell_type": "code",
   "execution_count": 9,
   "metadata": {
    "execution": {
     "iopub.execute_input": "2022-12-14T06:54:24.326862Z",
     "iopub.status.busy": "2022-12-14T06:54:24.326278Z",
     "iopub.status.idle": "2022-12-14T06:54:24.329689Z",
     "shell.execute_reply": "2022-12-14T06:54:24.329108Z"
    },
    "id": "WT9IkS9NEjLc"
   },
   "outputs": [],
   "source": [
    "stop_early = tf.keras.callbacks.EarlyStopping(monitor='val_loss', patience=5)"
   ]
  },
  {
   "cell_type": "markdown",
   "metadata": {
    "id": "UKghEo15Tduy"
   },
   "source": [
    "Run the hyperparameter search. The arguments for the search method are the same as those used for `tf.keras.model.fit` in addition to the callback above."
   ]
  },
  {
   "cell_type": "code",
   "execution_count": 10,
   "metadata": {
    "execution": {
     "iopub.execute_input": "2022-12-14T06:54:24.332887Z",
     "iopub.status.busy": "2022-12-14T06:54:24.332314Z",
     "iopub.status.idle": "2022-12-14T07:02:37.141071Z",
     "shell.execute_reply": "2022-12-14T07:02:37.140362Z"
    },
    "id": "dSBQcTHF9cKt"
   },
   "outputs": [
    {
     "name": "stdout",
     "output_type": "stream",
     "text": [
      "Trial 30 Complete [00h 00m 39s]\n",
      "val_accuracy: 0.8883333206176758\n",
      "\n",
      "Best val_accuracy So Far: 0.8901666402816772\n",
      "Total elapsed time: 00h 08m 13s\n",
      "INFO:tensorflow:Oracle triggered exit\n",
      "\n",
      "The hyperparameter search is complete. The optimal number of units in the first densely-connected\n",
      "layer is 288 and the optimal learning rate for the optimizer\n",
      "is 0.001.\n",
      "\n"
     ]
    }
   ],
   "source": [
    "tuner.search(img_train, label_train, epochs=50, validation_split=0.2, callbacks=[stop_early])\n",
    "\n",
    "# Get the optimal hyperparameters\n",
    "best_hps=tuner.get_best_hyperparameters(num_trials=1)[0]\n",
    "\n",
    "print(f\"\"\"\n",
    "The hyperparameter search is complete. The optimal number of units in the first densely-connected\n",
    "layer is {best_hps.get('units')} and the optimal learning rate for the optimizer\n",
    "is {best_hps.get('learning_rate')}.\n",
    "\"\"\")"
   ]
  },
  {
   "cell_type": "markdown",
   "metadata": {
    "id": "Lak_ylf88xBv"
   },
   "source": [
    "## Train the model\n",
    "\n",
    "Find the optimal number of epochs to train the model with the hyperparameters obtained from the search."
   ]
  },
  {
   "cell_type": "code",
   "execution_count": 11,
   "metadata": {
    "execution": {
     "iopub.execute_input": "2022-12-14T07:02:37.145040Z",
     "iopub.status.busy": "2022-12-14T07:02:37.144327Z",
     "iopub.status.idle": "2022-12-14T07:05:37.446591Z",
     "shell.execute_reply": "2022-12-14T07:05:37.445743Z"
    },
    "id": "McO82AXOuxXh"
   },
   "outputs": [
    {
     "name": "stdout",
     "output_type": "stream",
     "text": [
      "Epoch 1/50\n",
      "1500/1500 [==============================] - 4s 3ms/step - loss: 0.5038 - accuracy: 0.8215 - val_loss: 0.3984 - val_accuracy: 0.8597\n",
      "Epoch 2/50\n",
      "1500/1500 [==============================] - 4s 2ms/step - loss: 0.3729 - accuracy: 0.8632 - val_loss: 0.3585 - val_accuracy: 0.8723\n",
      "Epoch 3/50\n",
      "1500/1500 [==============================] - 4s 2ms/step - loss: 0.3323 - accuracy: 0.8773 - val_loss: 0.3729 - val_accuracy: 0.8637\n",
      "Epoch 4/50\n",
      "1500/1500 [==============================] - 4s 2ms/step - loss: 0.3079 - accuracy: 0.8869 - val_loss: 0.3604 - val_accuracy: 0.8698\n",
      "Epoch 5/50\n",
      "1500/1500 [==============================] - 3s 2ms/step - loss: 0.2919 - accuracy: 0.8911 - val_loss: 0.3466 - val_accuracy: 0.8786\n",
      "Epoch 6/50\n",
      "1500/1500 [==============================] - 3s 2ms/step - loss: 0.2741 - accuracy: 0.8976 - val_loss: 0.3207 - val_accuracy: 0.8847\n",
      "Epoch 7/50\n",
      "1500/1500 [==============================] - 4s 2ms/step - loss: 0.2589 - accuracy: 0.9040 - val_loss: 0.3203 - val_accuracy: 0.8887\n",
      "Epoch 8/50\n",
      "1500/1500 [==============================] - 3s 2ms/step - loss: 0.2474 - accuracy: 0.9085 - val_loss: 0.3094 - val_accuracy: 0.8891\n",
      "Epoch 9/50\n",
      "1500/1500 [==============================] - 3s 2ms/step - loss: 0.2372 - accuracy: 0.9120 - val_loss: 0.3101 - val_accuracy: 0.8918\n",
      "Epoch 10/50\n",
      "1500/1500 [==============================] - 4s 2ms/step - loss: 0.2288 - accuracy: 0.9150 - val_loss: 0.3281 - val_accuracy: 0.8862\n",
      "Epoch 11/50\n",
      "1500/1500 [==============================] - 4s 2ms/step - loss: 0.2190 - accuracy: 0.9186 - val_loss: 0.3210 - val_accuracy: 0.8892\n",
      "Epoch 12/50\n",
      "1500/1500 [==============================] - 4s 2ms/step - loss: 0.2116 - accuracy: 0.9202 - val_loss: 0.3219 - val_accuracy: 0.8864\n",
      "Epoch 13/50\n",
      "1500/1500 [==============================] - 4s 2ms/step - loss: 0.2011 - accuracy: 0.9260 - val_loss: 0.3163 - val_accuracy: 0.8939\n",
      "Epoch 14/50\n",
      "1500/1500 [==============================] - 4s 2ms/step - loss: 0.1969 - accuracy: 0.9264 - val_loss: 0.3533 - val_accuracy: 0.8886\n",
      "Epoch 15/50\n",
      "1500/1500 [==============================] - 4s 2ms/step - loss: 0.1900 - accuracy: 0.9289 - val_loss: 0.3135 - val_accuracy: 0.8970\n",
      "Epoch 16/50\n",
      "1500/1500 [==============================] - 4s 2ms/step - loss: 0.1857 - accuracy: 0.9299 - val_loss: 0.3227 - val_accuracy: 0.8937\n",
      "Epoch 17/50\n",
      "1500/1500 [==============================] - 4s 2ms/step - loss: 0.1787 - accuracy: 0.9343 - val_loss: 0.3268 - val_accuracy: 0.8932\n",
      "Epoch 18/50\n",
      "1500/1500 [==============================] - 4s 2ms/step - loss: 0.1722 - accuracy: 0.9360 - val_loss: 0.3658 - val_accuracy: 0.8832\n",
      "Epoch 19/50\n",
      "1500/1500 [==============================] - 4s 2ms/step - loss: 0.1670 - accuracy: 0.9374 - val_loss: 0.3479 - val_accuracy: 0.8947\n",
      "Epoch 20/50\n",
      "1500/1500 [==============================] - 4s 2ms/step - loss: 0.1615 - accuracy: 0.9396 - val_loss: 0.3638 - val_accuracy: 0.8888\n",
      "Epoch 21/50\n",
      "1500/1500 [==============================] - 4s 2ms/step - loss: 0.1571 - accuracy: 0.9413 - val_loss: 0.3411 - val_accuracy: 0.8980\n",
      "Epoch 22/50\n",
      "1500/1500 [==============================] - 4s 2ms/step - loss: 0.1535 - accuracy: 0.9413 - val_loss: 0.3458 - val_accuracy: 0.8933\n",
      "Epoch 23/50\n",
      "1500/1500 [==============================] - 4s 2ms/step - loss: 0.1492 - accuracy: 0.9457 - val_loss: 0.3653 - val_accuracy: 0.8919\n",
      "Epoch 24/50\n",
      "1500/1500 [==============================] - 4s 2ms/step - loss: 0.1428 - accuracy: 0.9454 - val_loss: 0.4007 - val_accuracy: 0.8816\n",
      "Epoch 25/50\n",
      "1500/1500 [==============================] - 3s 2ms/step - loss: 0.1411 - accuracy: 0.9469 - val_loss: 0.3806 - val_accuracy: 0.8917\n",
      "Epoch 26/50\n",
      "1500/1500 [==============================] - 4s 2ms/step - loss: 0.1368 - accuracy: 0.9488 - val_loss: 0.3644 - val_accuracy: 0.8955\n",
      "Epoch 27/50\n",
      "1500/1500 [==============================] - 3s 2ms/step - loss: 0.1308 - accuracy: 0.9508 - val_loss: 0.3870 - val_accuracy: 0.8889\n",
      "Epoch 28/50\n",
      "1500/1500 [==============================] - 3s 2ms/step - loss: 0.1293 - accuracy: 0.9519 - val_loss: 0.3786 - val_accuracy: 0.8949\n",
      "Epoch 29/50\n",
      "1500/1500 [==============================] - 3s 2ms/step - loss: 0.1246 - accuracy: 0.9532 - val_loss: 0.4124 - val_accuracy: 0.8873\n",
      "Epoch 30/50\n",
      "1500/1500 [==============================] - 4s 2ms/step - loss: 0.1246 - accuracy: 0.9535 - val_loss: 0.3897 - val_accuracy: 0.8950\n",
      "Epoch 31/50\n",
      "1500/1500 [==============================] - 4s 2ms/step - loss: 0.1191 - accuracy: 0.9550 - val_loss: 0.4175 - val_accuracy: 0.8882\n",
      "Epoch 32/50\n",
      "1500/1500 [==============================] - 4s 2ms/step - loss: 0.1171 - accuracy: 0.9565 - val_loss: 0.4166 - val_accuracy: 0.8927\n",
      "Epoch 33/50\n",
      "1500/1500 [==============================] - 4s 2ms/step - loss: 0.1120 - accuracy: 0.9585 - val_loss: 0.4328 - val_accuracy: 0.8921\n",
      "Epoch 34/50\n",
      "1500/1500 [==============================] - 4s 2ms/step - loss: 0.1095 - accuracy: 0.9599 - val_loss: 0.4163 - val_accuracy: 0.8942\n",
      "Epoch 35/50\n",
      "1500/1500 [==============================] - 4s 2ms/step - loss: 0.1079 - accuracy: 0.9594 - val_loss: 0.4387 - val_accuracy: 0.8890\n",
      "Epoch 36/50\n",
      "1500/1500 [==============================] - 4s 2ms/step - loss: 0.1056 - accuracy: 0.9600 - val_loss: 0.4339 - val_accuracy: 0.8924\n",
      "Epoch 37/50\n",
      "1500/1500 [==============================] - 3s 2ms/step - loss: 0.1021 - accuracy: 0.9621 - val_loss: 0.4474 - val_accuracy: 0.8911\n",
      "Epoch 38/50\n",
      "1500/1500 [==============================] - 4s 2ms/step - loss: 0.0980 - accuracy: 0.9630 - val_loss: 0.4563 - val_accuracy: 0.8892\n",
      "Epoch 39/50\n",
      "1500/1500 [==============================] - 4s 2ms/step - loss: 0.0996 - accuracy: 0.9626 - val_loss: 0.4329 - val_accuracy: 0.8937\n",
      "Epoch 40/50\n",
      "1500/1500 [==============================] - 4s 2ms/step - loss: 0.0962 - accuracy: 0.9644 - val_loss: 0.4605 - val_accuracy: 0.8925\n",
      "Epoch 41/50\n",
      "1500/1500 [==============================] - 4s 2ms/step - loss: 0.0929 - accuracy: 0.9648 - val_loss: 0.4717 - val_accuracy: 0.8913\n",
      "Epoch 42/50\n",
      "1500/1500 [==============================] - 4s 2ms/step - loss: 0.0949 - accuracy: 0.9644 - val_loss: 0.4650 - val_accuracy: 0.8888\n",
      "Epoch 43/50\n",
      "1500/1500 [==============================] - 4s 2ms/step - loss: 0.0861 - accuracy: 0.9679 - val_loss: 0.4899 - val_accuracy: 0.8948\n",
      "Epoch 44/50\n",
      "1500/1500 [==============================] - 4s 2ms/step - loss: 0.0882 - accuracy: 0.9665 - val_loss: 0.4779 - val_accuracy: 0.8929\n",
      "Epoch 45/50\n",
      "1500/1500 [==============================] - 4s 2ms/step - loss: 0.0870 - accuracy: 0.9666 - val_loss: 0.4873 - val_accuracy: 0.8878\n",
      "Epoch 46/50\n",
      "1500/1500 [==============================] - 4s 2ms/step - loss: 0.0842 - accuracy: 0.9685 - val_loss: 0.4929 - val_accuracy: 0.8953\n",
      "Epoch 47/50\n",
      "1500/1500 [==============================] - 4s 2ms/step - loss: 0.0829 - accuracy: 0.9690 - val_loss: 0.5250 - val_accuracy: 0.8905\n",
      "Epoch 48/50\n",
      "1500/1500 [==============================] - 4s 2ms/step - loss: 0.0796 - accuracy: 0.9705 - val_loss: 0.4885 - val_accuracy: 0.8967\n",
      "Epoch 49/50\n",
      "1500/1500 [==============================] - 4s 2ms/step - loss: 0.0781 - accuracy: 0.9703 - val_loss: 0.5235 - val_accuracy: 0.8878\n",
      "Epoch 50/50\n",
      "1500/1500 [==============================] - 4s 2ms/step - loss: 0.0786 - accuracy: 0.9696 - val_loss: 0.5510 - val_accuracy: 0.8874\n",
      "Best epoch: 21\n"
     ]
    }
   ],
   "source": [
    "# Build the model with the optimal hyperparameters and train it on the data for 50 epochs\n",
    "model = tuner.hypermodel.build(best_hps)\n",
    "history = model.fit(img_train, label_train, epochs=50, validation_split=0.2)\n",
    "\n",
    "val_acc_per_epoch = history.history['val_accuracy']\n",
    "best_epoch = val_acc_per_epoch.index(max(val_acc_per_epoch)) + 1\n",
    "print('Best epoch: %d' % (best_epoch,))"
   ]
  },
  {
   "cell_type": "markdown",
   "metadata": {
    "id": "uOTSirSTI3Gp"
   },
   "source": [
    "Re-instantiate the hypermodel and train it with the optimal number of epochs from above."
   ]
  },
  {
   "cell_type": "code",
   "execution_count": 12,
   "metadata": {
    "execution": {
     "iopub.execute_input": "2022-12-14T07:05:37.450153Z",
     "iopub.status.busy": "2022-12-14T07:05:37.449572Z",
     "iopub.status.idle": "2022-12-14T07:06:53.363112Z",
     "shell.execute_reply": "2022-12-14T07:06:53.362475Z"
    },
    "id": "NoiPUEHmMhCe"
   },
   "outputs": [
    {
     "name": "stdout",
     "output_type": "stream",
     "text": [
      "Epoch 1/21\n",
      "1500/1500 [==============================] - 4s 2ms/step - loss: 0.4994 - accuracy: 0.8230 - val_loss: 0.4522 - val_accuracy: 0.8298\n",
      "Epoch 2/21\n",
      "1500/1500 [==============================] - 4s 2ms/step - loss: 0.3687 - accuracy: 0.8662 - val_loss: 0.3484 - val_accuracy: 0.8746\n",
      "Epoch 3/21\n",
      "1500/1500 [==============================] - 4s 2ms/step - loss: 0.3322 - accuracy: 0.8766 - val_loss: 0.3518 - val_accuracy: 0.8705\n",
      "Epoch 4/21\n",
      "1500/1500 [==============================] - 4s 2ms/step - loss: 0.3064 - accuracy: 0.8869 - val_loss: 0.3297 - val_accuracy: 0.8784\n",
      "Epoch 5/21\n",
      "1500/1500 [==============================] - 4s 2ms/step - loss: 0.2864 - accuracy: 0.8929 - val_loss: 0.3257 - val_accuracy: 0.8808\n",
      "Epoch 6/21\n",
      "1500/1500 [==============================] - 3s 2ms/step - loss: 0.2745 - accuracy: 0.8981 - val_loss: 0.3108 - val_accuracy: 0.8867\n",
      "Epoch 7/21\n",
      "1500/1500 [==============================] - 4s 2ms/step - loss: 0.2596 - accuracy: 0.9034 - val_loss: 0.3166 - val_accuracy: 0.8898\n",
      "Epoch 8/21\n",
      "1500/1500 [==============================] - 4s 2ms/step - loss: 0.2476 - accuracy: 0.9081 - val_loss: 0.3186 - val_accuracy: 0.8896\n",
      "Epoch 9/21\n",
      "1500/1500 [==============================] - 3s 2ms/step - loss: 0.2375 - accuracy: 0.9105 - val_loss: 0.3137 - val_accuracy: 0.8887\n",
      "Epoch 10/21\n",
      "1500/1500 [==============================] - 4s 2ms/step - loss: 0.2298 - accuracy: 0.9143 - val_loss: 0.3172 - val_accuracy: 0.8888\n",
      "Epoch 11/21\n",
      "1500/1500 [==============================] - 4s 2ms/step - loss: 0.2186 - accuracy: 0.9183 - val_loss: 0.3237 - val_accuracy: 0.8914\n",
      "Epoch 12/21\n",
      "1500/1500 [==============================] - 4s 2ms/step - loss: 0.2119 - accuracy: 0.9206 - val_loss: 0.3147 - val_accuracy: 0.8894\n",
      "Epoch 13/21\n",
      "1500/1500 [==============================] - 4s 2ms/step - loss: 0.2026 - accuracy: 0.9251 - val_loss: 0.3270 - val_accuracy: 0.8925\n",
      "Epoch 14/21\n",
      "1500/1500 [==============================] - 4s 2ms/step - loss: 0.1957 - accuracy: 0.9265 - val_loss: 0.3337 - val_accuracy: 0.8857\n",
      "Epoch 15/21\n",
      "1500/1500 [==============================] - 4s 2ms/step - loss: 0.1897 - accuracy: 0.9284 - val_loss: 0.3502 - val_accuracy: 0.8862\n",
      "Epoch 16/21\n",
      "1500/1500 [==============================] - 4s 2ms/step - loss: 0.1825 - accuracy: 0.9317 - val_loss: 0.3265 - val_accuracy: 0.8938\n",
      "Epoch 17/21\n",
      "1500/1500 [==============================] - 4s 2ms/step - loss: 0.1760 - accuracy: 0.9333 - val_loss: 0.3308 - val_accuracy: 0.8932\n",
      "Epoch 18/21\n",
      "1500/1500 [==============================] - 4s 2ms/step - loss: 0.1692 - accuracy: 0.9367 - val_loss: 0.3246 - val_accuracy: 0.8969\n",
      "Epoch 19/21\n",
      "1500/1500 [==============================] - 4s 2ms/step - loss: 0.1648 - accuracy: 0.9386 - val_loss: 0.3394 - val_accuracy: 0.8949\n",
      "Epoch 20/21\n",
      "1500/1500 [==============================] - 4s 2ms/step - loss: 0.1598 - accuracy: 0.9393 - val_loss: 0.3543 - val_accuracy: 0.8926\n",
      "Epoch 21/21\n",
      "1500/1500 [==============================] - 4s 2ms/step - loss: 0.1522 - accuracy: 0.9421 - val_loss: 0.3691 - val_accuracy: 0.8895\n"
     ]
    },
    {
     "data": {
      "text/plain": [
       "<keras.callbacks.History at 0x7f4156803100>"
      ]
     },
     "execution_count": 12,
     "metadata": {},
     "output_type": "execute_result"
    }
   ],
   "source": [
    "hypermodel = tuner.hypermodel.build(best_hps)\n",
    "\n",
    "# Retrain the model\n",
    "hypermodel.fit(img_train, label_train, epochs=best_epoch, validation_split=0.2)"
   ]
  },
  {
   "cell_type": "markdown",
   "metadata": {
    "id": "MqU5ZVAaag2v"
   },
   "source": [
    "To finish this tutorial, evaluate the hypermodel on the test data."
   ]
  },
  {
   "cell_type": "code",
   "execution_count": 13,
   "metadata": {
    "execution": {
     "iopub.execute_input": "2022-12-14T07:06:53.366689Z",
     "iopub.status.busy": "2022-12-14T07:06:53.366121Z",
     "iopub.status.idle": "2022-12-14T07:06:54.138879Z",
     "shell.execute_reply": "2022-12-14T07:06:54.138189Z"
    },
    "id": "9E0BTp9Ealjb"
   },
   "outputs": [
    {
     "name": "stdout",
     "output_type": "stream",
     "text": [
      "313/313 [==============================] - 1s 2ms/step - loss: 0.4042 - accuracy: 0.8819\n",
      "[test loss, test accuracy]: [0.4041593372821808, 0.8819000124931335]\n"
     ]
    }
   ],
   "source": [
    "eval_result = hypermodel.evaluate(img_test, label_test)\n",
    "print(\"[test loss, test accuracy]:\", eval_result)"
   ]
  },
  {
   "cell_type": "markdown",
   "metadata": {
    "id": "EQRpPHZsz-eC"
   },
   "source": [
    "The `my_dir/intro_to_kt` directory contains detailed logs and checkpoints for every trial (model configuration) run during the hyperparameter search. If you re-run the hyperparameter search, the Keras Tuner uses the existing state from these logs to resume the search. To disable this behavior, pass an additional `overwrite=True` argument while instantiating the tuner."
   ]
  },
  {
   "cell_type": "markdown",
   "metadata": {
    "id": "sKwLOzKpFGAj"
   },
   "source": [
    "## Summary\n",
    "\n",
    "In this tutorial, you learned how to use the Keras Tuner to tune hyperparameters for a model. To learn more about the Keras Tuner, check out these additional resources:\n",
    "\n",
    "* [Keras Tuner on the TensorFlow blog](https://blog.tensorflow.org/2020/01/hyperparameter-tuning-with-keras-tuner.html)\n",
    "* [Keras Tuner website](https://keras-team.github.io/keras-tuner/)\n",
    "\n",
    "Also check out the [HParams Dashboard](https://www.tensorflow.org/tensorboard/hyperparameter_tuning_with_hparams) in TensorBoard to interactively tune your model hyperparameters."
   ]
  }
 ],
 "metadata": {
  "accelerator": "GPU",
  "colab": {
   "collapsed_sections": [
    "Tce3stUlHN0L"
   ],
   "name": "keras_tuner.ipynb",
   "toc_visible": true
  },
  "kernelspec": {
   "display_name": "Python 3 (ipykernel)",
   "language": "python",
   "name": "python3"
  },
  "language_info": {
   "codemirror_mode": {
    "name": "ipython",
    "version": 3
   },
   "file_extension": ".py",
   "mimetype": "text/x-python",
   "name": "python",
   "nbconvert_exporter": "python",
   "pygments_lexer": "ipython3",
   "version": "3.10.9"
  }
 },
 "nbformat": 4,
 "nbformat_minor": 4
}
