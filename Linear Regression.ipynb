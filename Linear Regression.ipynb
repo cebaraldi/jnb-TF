{
 "cells": [
  {
   "cell_type": "markdown",
   "id": "215d9247-8ccd-437f-a5d1-22a97e8d387d",
   "metadata": {
    "tags": []
   },
   "source": [
    "# Linear Regression Example\n",
    "\n",
    "Linear regression implementation with TensorFlow v2 library.\n",
    "\n",
    "This example is using a low-level approach to better understand all mechanics behind the training process.\n",
    "\n",
    "- Author: Aymeric Damien\n",
    "- Project: https://github.com/aymericdamien/TensorFlow-Examples/\n"
   ]
  },
  {
   "cell_type": "code",
   "execution_count": 10,
   "id": "a78e56a3-be7c-49eb-959c-610ddc624854",
   "metadata": {},
   "outputs": [
    {
     "name": "stdout",
     "output_type": "stream",
     "text": [
      "TensorFlow version 2.11.0\n"
     ]
    }
   ],
   "source": [
    "%reset -sf\n",
    "import os\n",
    "os.environ['TF_CPP_MIN_LOG_LEVEL'] = '2'\n",
    "\n",
    "from __future__ import absolute_import, division, print_function\n",
    "import tensorflow as tf\n",
    "import numpy as np\n",
    "import matplotlib.pyplot as plt\n",
    "%config InlineBackend.figure_format = 'svg'\n",
    "\n",
    "print(f'TensorFlow version {tf.__version__}')\n",
    "rng = np.random"
   ]
  },
  {
   "cell_type": "markdown",
   "id": "2ec5fc61-a662-408f-a714-dde1a48e7b17",
   "metadata": {},
   "source": [
    "## Parameters."
   ]
  },
  {
   "cell_type": "code",
   "execution_count": 3,
   "id": "17e0eda0-1dbf-4c52-8cc7-6f3a2a9f8d84",
   "metadata": {},
   "outputs": [],
   "source": [
    "learning_rate = 0.01\n",
    "training_steps = 1000\n",
    "display_step = 50"
   ]
  },
  {
   "cell_type": "markdown",
   "id": "5c43fa1a-ba28-4d01-843b-9900ac0bfaba",
   "metadata": {},
   "source": [
    "## Training Data."
   ]
  },
  {
   "cell_type": "code",
   "execution_count": 4,
   "id": "490aaefa-17da-40b4-8e94-4fab77029e8e",
   "metadata": {},
   "outputs": [],
   "source": [
    "X = np.array([3.3,4.4,5.5,6.71,6.93,4.168,9.779,6.182,7.59,2.167,\n",
    "              7.042,10.791,5.313,7.997,5.654,9.27,3.1])\n",
    "Y = np.array([1.7,2.76,2.09,3.19,1.694,1.573,3.366,2.596,2.53,1.221,\n",
    "              2.827,3.465,1.65,2.904,2.42,2.94,1.3])"
   ]
  },
  {
   "cell_type": "markdown",
   "id": "d195faad-c955-4943-86ff-7bb536a78159",
   "metadata": {},
   "source": [
    "## Weight and Bias, initialized randomly."
   ]
  },
  {
   "cell_type": "code",
   "execution_count": 5,
   "id": "e7f6a95c-7dd6-4036-aa73-e41d533dafb2",
   "metadata": {},
   "outputs": [
    {
     "name": "stderr",
     "output_type": "stream",
     "text": [
      "2023-03-18 19:11:50.202393: I tensorflow/core/platform/cpu_feature_guard.cc:193] This TensorFlow binary is optimized with oneAPI Deep Neural Network Library (oneDNN) to use the following CPU instructions in performance-critical operations:  SSE4.1 SSE4.2 AVX FMA\n",
      "To enable them in other operations, rebuild TensorFlow with the appropriate compiler flags.\n",
      "2023-03-18 19:11:50.244387: I tensorflow/core/common_runtime/process_util.cc:146] Creating new thread pool with default inter op setting: 2. Tune using inter_op_parallelism_threads for best performance.\n"
     ]
    }
   ],
   "source": [
    "W = tf.Variable(rng.randn(), name=\"weight\")\n",
    "b = tf.Variable(rng.randn(), name=\"bias\")\n",
    "\n",
    "# Linear regression (Wx + b).\n",
    "def linear_regression(x):\n",
    "    return W * x + b\n",
    "\n",
    "# Mean square error.\n",
    "def mean_square(y_pred, y_true):\n",
    "    return tf.reduce_mean(tf.square(y_pred - y_true))\n",
    "\n",
    "# Stochastic Gradient Descent Optimizer.\n",
    "optimizer = tf.optimizers.SGD(learning_rate)"
   ]
  },
  {
   "cell_type": "code",
   "execution_count": 6,
   "id": "09cbbb80-ff4a-4437-b84b-da7ad21d42e3",
   "metadata": {},
   "outputs": [],
   "source": [
    "## Optimization process. "
   ]
  },
  {
   "cell_type": "code",
   "execution_count": 7,
   "id": "eb9ce68b-4678-4c74-9868-099c2689cc1e",
   "metadata": {},
   "outputs": [],
   "source": [
    "def run_optimization():\n",
    "    # Wrap computation inside a GradientTape for automatic differentiation.\n",
    "    with tf.GradientTape() as g:\n",
    "        pred = linear_regression(X)\n",
    "        loss = mean_square(pred, Y)\n",
    "\n",
    "    # Compute gradients.\n",
    "    gradients = g.gradient(loss, [W, b])\n",
    "    \n",
    "    # Update W and b following gradients.\n",
    "    optimizer.apply_gradients(zip(gradients, [W, b]))"
   ]
  },
  {
   "cell_type": "markdown",
   "id": "b1a05a84-929b-4b25-8057-ddee83bd8584",
   "metadata": {},
   "source": [
    "## Run training for the given number of steps."
   ]
  },
  {
   "cell_type": "code",
   "execution_count": 8,
   "id": "8e5d6a4f-94c6-47b7-8801-efdc83612e0b",
   "metadata": {},
   "outputs": [
    {
     "name": "stdout",
     "output_type": "stream",
     "text": [
      "step: 50, loss: 0.214430, W: 0.350299, b: 0.099315\n",
      "step: 100, loss: 0.201360, W: 0.339009, b: 0.179362\n",
      "step: 150, loss: 0.191110, W: 0.329010, b: 0.250248\n",
      "step: 200, loss: 0.183072, W: 0.320155, b: 0.313022\n",
      "step: 250, loss: 0.176768, W: 0.312314, b: 0.368613\n",
      "step: 300, loss: 0.171824, W: 0.305370, b: 0.417842\n",
      "step: 350, loss: 0.167948, W: 0.299221, b: 0.461437\n",
      "step: 400, loss: 0.164907, W: 0.293775, b: 0.500044\n",
      "step: 450, loss: 0.162523, W: 0.288953, b: 0.534232\n",
      "step: 500, loss: 0.160653, W: 0.284683, b: 0.564509\n",
      "step: 550, loss: 0.159187, W: 0.280901, b: 0.591320\n",
      "step: 600, loss: 0.158037, W: 0.277552, b: 0.615064\n",
      "step: 650, loss: 0.157135, W: 0.274586, b: 0.636090\n",
      "step: 700, loss: 0.156428, W: 0.271959, b: 0.654710\n",
      "step: 750, loss: 0.155873, W: 0.269634, b: 0.671199\n",
      "step: 800, loss: 0.155438, W: 0.267574, b: 0.685801\n",
      "step: 850, loss: 0.155097, W: 0.265750, b: 0.698733\n",
      "step: 900, loss: 0.154830, W: 0.264135, b: 0.710184\n",
      "step: 950, loss: 0.154620, W: 0.262704, b: 0.720325\n",
      "step: 1000, loss: 0.154456, W: 0.261438, b: 0.729306\n"
     ]
    }
   ],
   "source": [
    "for step in range(1, training_steps + 1):\n",
    "    # Run the optimization to update W and b values.\n",
    "    run_optimization()\n",
    "    \n",
    "    if step % display_step == 0:\n",
    "        pred = linear_regression(X)\n",
    "        loss = mean_square(pred, Y)\n",
    "        print(\"step: %i, loss: %f, W: %f, b: %f\" % (step, loss, W.numpy(), b.numpy()))"
   ]
  },
  {
   "cell_type": "markdown",
   "id": "c8b76f4d-b99b-4416-b011-a887063194c6",
   "metadata": {},
   "source": [
    "## Graphic display"
   ]
  },
  {
   "cell_type": "code",
   "execution_count": 9,
   "id": "e01f76b8-e845-485e-9aa7-0244014d4e76",
   "metadata": {},
   "outputs": [
    {
     "data": {
      "image/png": "[encoded data removed]",
      "text/plain": [
       "<Figure size 640x480 with 1 Axes>"
      ]
     },
     "metadata": {},
     "output_type": "display_data"
    }
   ],
   "source": [
    "plt.plot(X, Y, 'ro', label='Original data')\n",
    "plt.plot(X, np.array(W * X + b), label='Fitted line')\n",
    "plt.legend()\n",
    "plt.show()"
   ]
  }
 ],
 "metadata": {
  "kernelspec": {
   "display_name": "Python 3 (ipykernel)",
   "language": "python",
   "name": "python3"
  },
  "language_info": {
   "codemirror_mode": {
    "name": "ipython",
    "version": 3
   },
   "file_extension": ".py",
   "mimetype": "text/x-python",
   "name": "python",
   "nbconvert_exporter": "python",
   "pygments_lexer": "ipython3",
   "version": "3.10.9"
  }
 },
 "nbformat": 4,
 "nbformat_minor": 5
}
