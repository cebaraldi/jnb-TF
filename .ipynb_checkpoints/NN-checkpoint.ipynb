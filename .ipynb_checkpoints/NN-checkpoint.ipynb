{
 "cells": [
  {
   "cell_type": "markdown",
   "id": "5a6b9e5d-e802-44d5-bf3f-39f499ffae97",
   "metadata": {},
   "source": [
    "# Neural Networks"
   ]
  },
  {
   "cell_type": "code",
   "execution_count": 18,
   "id": "858ab87e-3dc5-4892-842e-ff47d80b2f06",
   "metadata": {},
   "outputs": [
    {
     "name": "stdout",
     "output_type": "stream",
     "text": [
      "TensorFlow version 2.11.0\n"
     ]
    }
   ],
   "source": [
    "%reset -sf\n",
    "import os\n",
    "os.environ['TF_CPP_MIN_LOG_LEVEL'] = '2'\n",
    "import tensorflow as tf\n",
    "from tensorflow import keras\n",
    "from tensorflow.keras import layers\n",
    "from tensorflow.keras.datasets import mnist\n",
    "\n",
    "\n",
    "print(f'TensorFlow version {tf.__version__}')"
   ]
  },
  {
   "cell_type": "markdown",
   "id": "6ee0830b-f3c4-4254-9720-5a82ed3705db",
   "metadata": {},
   "source": [
    "Dataset: [cifar10](https://www.tensorflow.org/datasets/catalog/cifar10)\n"
   ]
  },
  {
   "cell_type": "code",
   "execution_count": 19,
   "id": "44416716-426e-40ba-bc90-84aa966ed523",
   "metadata": {},
   "outputs": [
    {
     "name": "stdout",
     "output_type": "stream",
     "text": [
      "(60000, 28, 28)\n",
      "(60000,)\n"
     ]
    }
   ],
   "source": [
    "(x_train, y_train), (x_test, y_test) = mnist.load_data() \n",
    "print(x_train.shape)\n",
    "print(y_train.shape)"
   ]
  },
  {
   "cell_type": "markdown",
   "id": "4faa7773-d6d6-4cb5-968a-825caa1c745d",
   "metadata": {},
   "source": [
    "## Reshape the data to have one long column w/ those feature values"
   ]
  },
  {
   "cell_type": "code",
   "execution_count": 20,
   "id": "c48c3d40-89b7-4fde-9258-9fb542a8b623",
   "metadata": {},
   "outputs": [],
   "source": [
    "x_train = x_train.reshape(-1, 28*28).astype(\"float32\") / 255.0\n",
    "x_test = x_test.reshape(-1, 28*28).astype(\"float32\") / 255.0"
   ]
  },
  {
   "cell_type": "markdown",
   "id": "e06871ad-715f-4f6e-b6ec-a11171e9aed2",
   "metadata": {},
   "source": [
    "## Sequential API (Model of Keras)\n",
    "(Very convenient, not very flexible)"
   ]
  },
  {
   "cell_type": "code",
   "execution_count": 21,
   "id": "8598125d-6d03-47d2-bf11-940bf3e8cbee",
   "metadata": {},
   "outputs": [],
   "source": [
    "model = keras.Sequential(\n",
    "    [\n",
    "        layers.Dense(512, activation='relu'),\n",
    "        layers.Dense(256, activation='relu'),\n",
    "        layers.Dense(10)\n",
    "    ]\n",
    ")\n"
   ]
  },
  {
   "cell_type": "code",
   "execution_count": null,
   "id": "f6f640d7-3041-437f-9349-79ee5ffb676c",
   "metadata": {},
   "outputs": [],
   "source": []
  },
  {
   "cell_type": "code",
   "execution_count": 22,
   "id": "ed199f75-d181-4977-a0e6-467123ad8795",
   "metadata": {},
   "outputs": [
    {
     "ename": "AttributeError",
     "evalue": "module 'keras.api._v2.keras.losses' has no attribute 'SparsCategoricalCrossentropy'",
     "output_type": "error",
     "traceback": [
      "\u001b[0;31m---------------------------------------------------------------------------\u001b[0m",
      "\u001b[0;31mAttributeError\u001b[0m                            Traceback (most recent call last)",
      "Cell \u001b[0;32mIn[22], line 2\u001b[0m\n\u001b[1;32m      1\u001b[0m model\u001b[38;5;241m.\u001b[39mcompile(\n\u001b[0;32m----> 2\u001b[0m     loss\u001b[38;5;241m=\u001b[39m\u001b[43mkeras\u001b[49m\u001b[38;5;241;43m.\u001b[39;49m\u001b[43mlosses\u001b[49m\u001b[38;5;241;43m.\u001b[39;49m\u001b[43mSparsCategoricalCrossentropy\u001b[49m(from_logits\u001b[38;5;241m=\u001b[39mTRUE),\n\u001b[1;32m      3\u001b[0m     optimizer\u001b[38;5;241m=\u001b[39mkeras\u001b[38;5;241m.\u001b[39moptimizer\u001b[38;5;241m.\u001b[39mAdam(lr\u001b[38;5;241m=\u001b[39m\u001b[38;5;241m0.001\u001b[39m),\n\u001b[1;32m      4\u001b[0m     metrics\u001b[38;5;241m=\u001b[39m[\u001b[38;5;124m\"\u001b[39m\u001b[38;5;124maccuracy\u001b[39m\u001b[38;5;124m\"\u001b[39m],\n\u001b[1;32m      5\u001b[0m     \n\u001b[1;32m      6\u001b[0m )\n\u001b[1;32m      9\u001b[0m \u001b[38;5;28mprint\u001b[39m(model\u001b[38;5;241m.\u001b[39msummary())\n\u001b[1;32m     11\u001b[0m model\u001b[38;5;241m.\u001b[39mfit(x_train, y_train, batch_size\u001b[38;5;241m=\u001b[39m\u001b[38;5;241m32\u001b[39m, epochs\u001b[38;5;241m=\u001b[39m\u001b[38;5;241m5\u001b[39m, verbose\u001b[38;5;241m=\u001b[39m\u001b[38;5;241m2\u001b[39m)\n",
      "\u001b[0;31mAttributeError\u001b[0m: module 'keras.api._v2.keras.losses' has no attribute 'SparsCategoricalCrossentropy'"
     ]
    }
   ],
   "source": [
    "model.compile(\n",
    "    loss=keras.losses.SparsCategoricalCrossentropy(from_logits=TRUE),\n",
    "    optimizer=keras.optimizer.Adam(lr=0.001),\n",
    "    metrics=[\"accuracy\"],\n",
    "    \n",
    ")\n",
    "    \n",
    "model.fit(x_train, y_train, batch_size=32, epochs=5, verbose=2)\n",
    "print(model.summary())\n",
    "\n",
    "model.evaluate(x_test, y_test, batch_size=32, verbose=2)"
   ]
  },
  {
   "cell_type": "markdown",
   "id": "ab0de728-a609-4908-9243-7945f363106d",
   "metadata": {},
   "source": [
    "## Functional API (A bit more flexible)"
   ]
  },
  {
   "cell_type": "code",
   "execution_count": null,
   "id": "c179dd37-7867-46a9-a380-e07797661018",
   "metadata": {},
   "outputs": [],
   "source": [
    "inputs = keras.Input(shape=(784))\n",
    "x = layers.Dense(512, activation='relu')(inputs)\n",
    "x = layers.Dense(256, activation='relu')(x)\n",
    "outputs = layers.Dense(10, activation='softmax')(x)\n",
    "model = keras.Model(inputs=inputs, outputs=outputs)\n",
    "\n",
    "model.compile(\n",
    "    loss=keras.losses.SparsCategoricalCrossentropy(from_logits=TRUE),\n",
    "    optimizer=keras.optimizer.Adam(lr=0.001),\n",
    "    metrics=[\"accuracy\"],\n",
    "    \n",
    ")"
   ]
  }
 ],
 "metadata": {
  "kernelspec": {
   "display_name": "Python 3 (ipykernel)",
   "language": "python",
   "name": "python3"
  },
  "language_info": {
   "codemirror_mode": {
    "name": "ipython",
    "version": 3
   },
   "file_extension": ".py",
   "mimetype": "text/x-python",
   "name": "python",
   "nbconvert_exporter": "python",
   "pygments_lexer": "ipython3",
   "version": "3.10.9"
  }
 },
 "nbformat": 4,
 "nbformat_minor": 5
}
