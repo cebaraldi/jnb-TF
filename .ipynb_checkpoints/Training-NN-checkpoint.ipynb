{
 "cells": [
  {
   "cell_type": "markdown",
   "id": "00e1ac11-2edc-4239-baa9-2d8a4754cd02",
   "metadata": {},
   "source": [
    "# Training a Neural Network to categorize MNSIT data\n",
    "\n",
    "[TensorFlow 2.0](https://www.geeksforgeeks.org/tensorflow-2-0/)"
   ]
  },
  {
   "cell_type": "code",
   "execution_count": 25,
   "id": "9b1e0c23-1e1d-41c1-99ee-9dc502c2383a",
   "metadata": {},
   "outputs": [],
   "source": [
    "%reset -sf\n",
    "import os\n",
    "os.environ['TF_CPP_MIN_LOG_LEVEL'] = '2'"
   ]
  },
  {
   "cell_type": "code",
   "execution_count": 26,
   "id": "98fd89c9-2dd2-4923-877d-3a0f2442d266",
   "metadata": {},
   "outputs": [],
   "source": [
    "import tensorflow as tf"
   ]
  },
  {
   "cell_type": "markdown",
   "id": "05f40ddf-86a0-4ea6-8a7f-54f4d5ee39b9",
   "metadata": {},
   "source": [
    "The Fashion MNIST data is available directly in the tf.kerasdatasets API. You load it like this:"
   ]
  },
  {
   "cell_type": "code",
   "execution_count": 27,
   "id": "0dc58a05-05e8-463b-8cce-473f2114205b",
   "metadata": {},
   "outputs": [],
   "source": [
    "mnist = tf.keras.datasets.fashion_mnist"
   ]
  },
  {
   "cell_type": "markdown",
   "id": "5c932139-067a-4606-bc4e-fe04416cea88",
   "metadata": {},
   "source": [
    "Calling load_data on this object will give you two sets of two\n",
    "lists, these will be the training and testing values for the graphics\n",
    "that contain the clothing items and their labels."
   ]
  },
  {
   "cell_type": "code",
   "execution_count": 28,
   "id": "b5f96855-c157-4c10-af1a-94d66ea1ebde",
   "metadata": {},
   "outputs": [],
   "source": [
    "(training_images, training_labels), (test_images, test_labels) = mnist.load_data()"
   ]
  },
  {
   "cell_type": "markdown",
   "id": "2dd4dc74-e9bb-4d75-aa98-0fdcd018477c",
   "metadata": {},
   "source": [
    "You'll notice that all of the values in the number are between 0 and 255. If we are training a neural network, for various reasons it's easier if we treat all values as between 0 and 1, a process called '**normalizing**'...and fortunately in Python it's easy to normalize a list like this without looping. So, perform it like - "
   ]
  },
  {
   "cell_type": "code",
   "execution_count": 29,
   "id": "6b0e152b-4709-4b7e-8fba-e249122e0e38",
   "metadata": {},
   "outputs": [],
   "source": [
    "training_images = training_images / 255.0\n",
    "test_images = test_images / 255.0"
   ]
  },
  {
   "cell_type": "markdown",
   "id": "a7f1c134-9357-45bc-80f8-6f8c9427502c",
   "metadata": {},
   "source": [
    "Now you might be wondering why there are 2 sets...training and testing\n",
    "-- remember we spoke about this in the intro? The idea is to have 1 set of\n",
    "data for training, and then another set of data...that the model hasn't yet\n",
    "seen...to see how good it would be at classifying values. After all, when\n",
    "you're done, you're going to want to try it out with data that it hadn't\n",
    "previously seen!\n",
    "\n",
    "Let's now design the model. There are quite a few new concepts here,\n",
    "but don't worry, you'll get the hang of them."
   ]
  },
  {
   "cell_type": "code",
   "execution_count": 30,
   "id": "7893f8ad-08c8-4eb6-97c6-84ea3e888c06",
   "metadata": {},
   "outputs": [],
   "source": [
    "model = tf.keras.models.Sequential([\n",
    "    tf.keras.layers.Flatten(),\n",
    "    tf.keras.layers.Dense(128, activation=tf.nn.relu),\n",
    "    tf.keras.layers.Dense(10, activation=tf.nn.softmax)\n",
    "])"
   ]
  },
  {
   "cell_type": "markdown",
   "id": "a880065f-013e-489a-b96a-faf5b46b755e",
   "metadata": {},
   "source": [
    "**Sequential**: That defines a SEQUENCE of layers in the neural network\n",
    "\n",
    "**Flatten**: Remember earlier where our images were a square when\n",
    "you printed them out? Flatten just takes that square and turns it\n",
    "into a 1-dimensional set.\n",
    "\n",
    "**Dense**: Adds a layer of neurons\n",
    "\n",
    "Each layer of neurons needs an **activation function** to tell them what to\n",
    "do. There are lots of options, but just use these for now.\n",
    "\n",
    "**Relu** effectively means \"If X>0 return X, else return 0\" -- so what it does\n",
    "it only passes values 0 or greater to the next layer in the network.\n",
    "\n",
    "**Softmax** takes a set of values, and effectively picks the biggest one, so,\n",
    "for example, if the output of the last layer looks like [0.1, 0.1, 0.05, 0.1,\n",
    "9.5, 0.1, 0.05, 0.05, 0.05], it saves you from fishing through it looking for\n",
    "the biggest value, and turns it into [0,0,0,0,1,0,0,0,0] --\n",
    "The goal is to save a lot of coding!\n",
    "\n",
    "The next thing to do, now the model is defined, is to actually build it.\n",
    "You do this by compiling it with an optimizer and loss function as before --\n",
    "and then you train it by calling **model.fit ** asking it to fit your training\n",
    "data to your training labels -- i.e. have it figure out the relationship between\n",
    "the training data and its actual labels, so in future, if you have data that\n",
    "looks like the training data, then it can make a prediction for what that data\n",
    "would look like."
   ]
  },
  {
   "cell_type": "code",
   "execution_count": 31,
   "id": "63920841-797b-4389-8ea0-1babe2917375",
   "metadata": {},
   "outputs": [
    {
     "name": "stdout",
     "output_type": "stream",
     "text": [
      "Epoch 1/10\n",
      "1875/1875 [==============================] - 18s 9ms/step - loss: 0.5072 - accuracy: 0.8215\n",
      "Epoch 2/10\n",
      "1875/1875 [==============================] - 20s 11ms/step - loss: 0.3788 - accuracy: 0.8630\n",
      "Epoch 3/10\n",
      "1875/1875 [==============================] - 19s 10ms/step - loss: 0.3377 - accuracy: 0.8765\n",
      "Epoch 4/10\n",
      "1875/1875 [==============================] - 20s 11ms/step - loss: 0.3159 - accuracy: 0.8846\n",
      "Epoch 5/10\n",
      "1875/1875 [==============================] - 24s 13ms/step - loss: 0.2974 - accuracy: 0.8907\n",
      "Epoch 6/10\n",
      "1875/1875 [==============================] - 21s 11ms/step - loss: 0.2831 - accuracy: 0.8941\n",
      "Epoch 7/10\n",
      "1875/1875 [==============================] - 24s 13ms/step - loss: 0.2697 - accuracy: 0.8991\n",
      "Epoch 8/10\n",
      "1875/1875 [==============================] - 23s 12ms/step - loss: 0.2581 - accuracy: 0.9038\n",
      "Epoch 9/10\n",
      "1875/1875 [==============================] - 22s 12ms/step - loss: 0.2512 - accuracy: 0.9065\n",
      "Epoch 10/10\n",
      "1875/1875 [==============================] - 25s 13ms/step - loss: 0.2420 - accuracy: 0.9100\n"
     ]
    },
    {
     "data": {
      "text/plain": [
       "<keras.callbacks.History at 0x7f87b00ab910>"
      ]
     },
     "execution_count": 31,
     "metadata": {},
     "output_type": "execute_result"
    }
   ],
   "source": [
    "model.compile(optimizer = tf.keras.optimizers.Adam(),\n",
    "\t\t\tloss = 'sparse_categorical_crossentropy',\n",
    "\t\t\tmetrics=['accuracy'])\n",
    "\n",
    "model.fit(training_images, training_labels, epochs=10)"
   ]
  },
  {
   "cell_type": "markdown",
   "id": "b85e87b1-9ea7-4fe0-ba56-9465d3de8d17",
   "metadata": {},
   "source": [
    "Once it's done training -- you should see an accuracy value at the end of the\n",
    "final epoch. It might look something like 0.9098. This tells you that your\n",
    "neural network is about 91% accurate in classifying the training data. I.E.,\n",
    "it figured out a pattern match between the image and the labels that worked\n",
    "91% of the time. Not great, but not bad considering it was only trained for 10\n",
    "epochs and done quite quickly.\n",
    "\n",
    "But how would it work with unseen data? That's why we have the test images. We\n",
    "can call model.evaluate, and pass in the two sets, and it will report back the\n",
    "loss for each. Let's give it a try:"
   ]
  },
  {
   "cell_type": "code",
   "execution_count": 32,
   "id": "2043e263-7f16-4f5c-a7cd-d016d7f03ded",
   "metadata": {},
   "outputs": [
    {
     "name": "stdout",
     "output_type": "stream",
     "text": [
      "313/313 [==============================] - 1s 4ms/step - loss: 0.3410 - accuracy: 0.8817\n"
     ]
    },
    {
     "data": {
      "text/plain": [
       "[0.34095972776412964, 0.8816999793052673]"
      ]
     },
     "execution_count": 32,
     "metadata": {},
     "output_type": "execute_result"
    }
   ],
   "source": [
    "model.evaluate(test_images, test_labels)"
   ]
  },
  {
   "cell_type": "markdown",
   "id": "7e7a9aab-5c8f-4c45-98e8-4f1837c0d23f",
   "metadata": {},
   "source": [
    "For me, that returned an accuracy of about .8838, which means it was\n",
    "about 88% accurate. As expected it probably would not do as well with *unseen*\n",
    "data as it did with data it was trained on!"
   ]
  }
 ],
 "metadata": {
  "kernelspec": {
   "display_name": "Python 3 (ipykernel)",
   "language": "python",
   "name": "python3"
  },
  "language_info": {
   "codemirror_mode": {
    "name": "ipython",
    "version": 3
   },
   "file_extension": ".py",
   "mimetype": "text/x-python",
   "name": "python",
   "nbconvert_exporter": "python",
   "pygments_lexer": "ipython3",
   "version": "3.10.9"
  }
 },
 "nbformat": 4,
 "nbformat_minor": 5
}
