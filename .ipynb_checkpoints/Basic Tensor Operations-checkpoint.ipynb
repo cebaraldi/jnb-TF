{
 "cells": [
  {
   "cell_type": "markdown",
   "id": "806a757e-bb4a-412e-97a5-5eff154df2b0",
   "metadata": {},
   "source": [
    "# Basic Tensor Operations\n",
    "\n",
    "Basic tensor operations using TensorFlow v2.\n",
    "\n",
    "- Author: Aymeric Damien\n",
    "- Project: https://github.com/aymericdamien/TensorFlow-Examples/"
   ]
  },
  {
   "cell_type": "code",
   "execution_count": 7,
   "id": "cae705b1-d52d-4d0e-9ac2-1fdc85a7affa",
   "metadata": {},
   "outputs": [
    {
     "name": "stdout",
     "output_type": "stream",
     "text": [
      "TensorFlow version 2.11.0\n"
     ]
    }
   ],
   "source": [
    "%reset -sf\n",
    "import os\n",
    "os.environ['TF_CPP_MIN_LOG_LEVEL'] = '2'\n",
    "from __future__ import print_function\n",
    "import tensorflow as tf\n",
    "\n",
    "# If you have a GPU:\n",
    "# physical_devices = tf.config.list_physical_devices('GPU')\n",
    "# tf.config.experimental.set_memory_growth(physical_devices[0], True)\n",
    "\n",
    "print(f'TensorFlow version {tf.__version__}')"
   ]
  },
  {
   "cell_type": "markdown",
   "id": "b4d4e6bc-9050-4241-9c82-f10833be9497",
   "metadata": {},
   "source": [
    "## Define tensors"
   ]
  },
  {
   "cell_type": "code",
   "execution_count": 8,
   "id": "9182006d-4a5e-446c-b894-bcd622d54668",
   "metadata": {},
   "outputs": [
    {
     "name": "stdout",
     "output_type": "stream",
     "text": [
      "tf.Tensor(2.0, shape=(), dtype=float32)\n",
      "tf.Tensor(3, shape=(), dtype=int32)\n",
      "tf.Tensor([[5.]], shape=(1, 1), dtype=float32)\n",
      "tf.Tensor(\n",
      "[[1 2 3]\n",
      " [4 5 6]], shape=(2, 3), dtype=int32)\n",
      "tf.Tensor(\n",
      "[[1. 1. 1.]\n",
      " [1. 1. 1.]\n",
      " [1. 1. 1.]], shape=(3, 3), dtype=float32)\n",
      "tf.Tensor(\n",
      "[[0. 0. 0.]\n",
      " [0. 0. 0.]], shape=(2, 3), dtype=float32)\n",
      "tf.Tensor(\n",
      "[[1. 0.]\n",
      " [0. 1.]], shape=(2, 2), dtype=float32)\n",
      "tf.Tensor(\n",
      "[[ 1.9531832  -1.5125954   1.4900324 ]\n",
      " [-1.8803407  -0.7159301  -1.7976872 ]\n",
      " [-0.32047948 -1.147034    0.56221104]], shape=(3, 3), dtype=float32)\n",
      "tf.Tensor([[0.6943371 0.96313   0.5350944]], shape=(1, 3), dtype=float32)\n",
      "tf.Tensor([0 1 2 3 4 5 6 7 8], shape=(9,), dtype=int32)\n",
      "tf.Tensor([1. 3. 5. 7. 9.], shape=(5,), dtype=float64)\n"
     ]
    }
   ],
   "source": [
    "a = tf.constant(2.0)\n",
    "b = tf.constant(3)\n",
    "c = tf.constant(5, shape=(1,1), dtype=tf.float32)\n",
    "print(a)\n",
    "print(b)\n",
    "print(c)\n",
    "print(tf.constant([[1,2,3],[4,5,6]]))                \n",
    "print(tf.ones((3,3)))\n",
    "print(tf.zeros((2,3)))\n",
    "print(tf.eye((2)))\n",
    "\n",
    "# Random numbers\n",
    "print(tf.random.normal((3,3), mean=0, stddev=1))\n",
    "print(tf.random.uniform((1,3), minval=0, maxval=1))\n",
    "\n",
    "# Ranges\n",
    "print(tf.range(9))\n",
    "x = tf.range(start=1, limit=10, delta=2)\n",
    "print(tf.cast(x, dtype=tf.float64))\n",
    "# tf.float(16,32,64), tf.int(8,16,32,64), tf.bool"
   ]
  },
  {
   "cell_type": "markdown",
   "id": "6a619e00-15d8-44a0-b351-000f8b5759d6",
   "metadata": {},
   "source": [
    "## Mathematical Operations"
   ]
  },
  {
   "cell_type": "code",
   "execution_count": 9,
   "id": "5d196eff-3c36-4e11-a8fd-f8eab3df4d7e",
   "metadata": {},
   "outputs": [
    {
     "name": "stdout",
     "output_type": "stream",
     "text": [
      "tf.Tensor([10 10 10], shape=(3,), dtype=int32)\n",
      "tf.Tensor([10 10 10], shape=(3,), dtype=int32)\n",
      "tf.Tensor(46, shape=(), dtype=int32)\n",
      "tf.Tensor(46, shape=(), dtype=int32)\n",
      "tf.Tensor(\n",
      "[[-0.48586103 -0.4585045  -0.38542503  0.16199085]\n",
      " [ 0.8512589  -0.5995453  -0.87261647 -1.8366888 ]], shape=(2, 4), dtype=float32)\n",
      "tf.Tensor(\n",
      "[[-0.48586103 -0.4585045  -0.38542503  0.16199085]\n",
      " [ 0.8512589  -0.5995453  -0.87261647 -1.8366888 ]], shape=(2, 4), dtype=float32)\n"
     ]
    }
   ],
   "source": [
    "x = tf.constant([1,2,3])\n",
    "y = tf.constant([9,8,7])\n",
    "print(tf.add(x,y))\n",
    "z = x + y\n",
    "print(z)\n",
    "# etc.\n",
    "\n",
    "print(tf.tensordot(x, y, axes=1)) # vector product, here AXES\n",
    "print(tf.reduce_sum(x*y, axis=0)) # vector product, but AXIS here???\n",
    "\n",
    "x = tf.random.normal((2,3))\n",
    "y = tf.random.normal((3,4))\n",
    "print(tf.matmul(x, y))\n",
    "print(x @ y)"
   ]
  },
  {
   "cell_type": "markdown",
   "id": "63c28364-cf3b-4551-b063-4e9d3089a820",
   "metadata": {},
   "source": [
    "## Indexing"
   ]
  },
  {
   "cell_type": "code",
   "execution_count": 10,
   "id": "a1d9a57e-1f0a-4895-b48e-9108edd1dbe4",
   "metadata": {},
   "outputs": [
    {
     "name": "stdout",
     "output_type": "stream",
     "text": [
      "tf.Tensor([0 1 1 2 3 1 2 3], shape=(8,), dtype=int32)\n",
      "tf.Tensor([1 1 2 3 1 2 3], shape=(7,), dtype=int32)\n",
      "tf.Tensor([1 1], shape=(2,), dtype=int32)\n",
      "tf.Tensor([0 1 3 2], shape=(4,), dtype=int32)\n",
      "tf.Tensor([3 2 1 3 2 1 1 0], shape=(8,), dtype=int32)\n",
      "tf.Tensor([0 2], shape=(2,), dtype=int32)\n",
      "tf.Tensor(\n",
      "[[1 2]\n",
      " [3 4]\n",
      " [5 6]], shape=(3, 2), dtype=int32)\n",
      "tf.Tensor(\n",
      "[[1 2]\n",
      " [3 4]], shape=(2, 2), dtype=int32)\n"
     ]
    }
   ],
   "source": [
    "x = tf.constant([0,1,1,2,3,1,2,3])\n",
    "print(x[:])\n",
    "print(x[1:])\n",
    "print(x[1:3])\n",
    "print(x[::2])\n",
    "print(x[::-1])\n",
    "\n",
    "indices = tf.constant([0,3])\n",
    "x_ind = tf.gather(x, indices)\n",
    "print(x_ind)\n",
    "\n",
    "x = tf.constant([[1,2],\n",
    "                 [3,4],\n",
    "                 [5,6]])\n",
    "print(x[0:])\n",
    "print(x[0:2,:])"
   ]
  },
  {
   "cell_type": "markdown",
   "id": "57931511-7452-410b-9adc-fc8b5abec4eb",
   "metadata": {},
   "source": [
    "## Reshaping"
   ]
  },
  {
   "cell_type": "code",
   "execution_count": 11,
   "id": "612503db-ec41-4a0d-a6a2-41d006764790",
   "metadata": {},
   "outputs": [
    {
     "name": "stdout",
     "output_type": "stream",
     "text": [
      "tf.Tensor(\n",
      "[[0 1 2]\n",
      " [3 4 5]\n",
      " [6 7 8]], shape=(3, 3), dtype=int32)\n",
      "tf.Tensor(\n",
      "[[0 3 6]\n",
      " [1 4 7]\n",
      " [2 5 8]], shape=(3, 3), dtype=int32)\n",
      "tf.Tensor(\n",
      "[[0 1 2]\n",
      " [3 4 5]\n",
      " [6 7 8]], shape=(3, 3), dtype=int32)\n"
     ]
    }
   ],
   "source": [
    "x = tf.range(9)\n",
    "x = tf.reshape(x, (3,3))\n",
    "print(x)\n",
    "x = tf.transpose(x)\n",
    "print(x)\n",
    "x = tf.transpose(x, perm=[1,0])\n",
    "print(x)"
   ]
  }
 ],
 "metadata": {
  "kernelspec": {
   "display_name": "Python 3 (ipykernel)",
   "language": "python",
   "name": "python3"
  },
  "language_info": {
   "codemirror_mode": {
    "name": "ipython",
    "version": 3
   },
   "file_extension": ".py",
   "mimetype": "text/x-python",
   "name": "python",
   "nbconvert_exporter": "python",
   "pygments_lexer": "ipython3",
   "version": "3.10.9"
  }
 },
 "nbformat": 4,
 "nbformat_minor": 5
}
